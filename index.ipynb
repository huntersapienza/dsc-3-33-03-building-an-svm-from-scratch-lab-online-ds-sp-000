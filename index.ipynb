{
 "cells": [
  {
   "cell_type": "markdown",
   "metadata": {},
   "source": [
    "# Building an SVM from Scratch - Lab"
   ]
  },
  {
   "cell_type": "markdown",
   "metadata": {},
   "source": [
    "## Introduction"
   ]
  },
  {
   "cell_type": "markdown",
   "metadata": {},
   "source": [
    "In this lab, you'll program a simple Support Vector Machine from scratch!"
   ]
  },
  {
   "cell_type": "markdown",
   "metadata": {},
   "source": [
    "## Objectives"
   ]
  },
  {
   "cell_type": "markdown",
   "metadata": {},
   "source": [
    "You will be able to:\n",
    "- Build a simple linear max-margin classifier from scratch\n",
    "- Build a simple soft-margin classifier from scratch\n"
   ]
  },
  {
   "cell_type": "markdown",
   "metadata": {},
   "source": [
    "## The Data"
   ]
  },
  {
   "cell_type": "markdown",
   "metadata": {},
   "source": [
    "Support Vector Machines can be used on problem cases where we have an $n$-dimensional feature space. For teaching purposes, however, we use a 2-dimensional feature space so you can see what exactly is going on when using support vector machines.\n",
    "\n",
    "Scikit-learn has excellent data sets generator. one of them is `make_blobs`. Below, you can find the code to create two blobs using the `make_blobs` function. We will use this data to build our own SVM from scratch! "
   ]
  },
  {
   "cell_type": "code",
   "execution_count": 1,
   "metadata": {},
   "outputs": [
    {
     "data": {
      "image/png": "[encoded data removed]",
      "text/plain": [
       "<Figure size 360x360 with 1 Axes>"
      ]
     },
     "metadata": {
      "needs_background": "light"
     },
     "output_type": "display_data"
    }
   ],
   "source": [
    "from sklearn.datasets import make_blobs\n",
    "import matplotlib.pyplot as plt\n",
    "%matplotlib inline  \n",
    "import numpy as np\n",
    "\n",
    "plt.figure(figsize=(5, 5))\n",
    "\n",
    "plt.title(\"Two blobs\")\n",
    "X, labels = make_blobs(n_features = 2, centers = 2, cluster_std=1.25,  random_state = 123)\n",
    "plt.scatter(X[:, 0], X[:, 1], c = labels, s=25);"
   ]
  },
  {
   "cell_type": "markdown",
   "metadata": {},
   "source": [
    "## Building a Max Margin Classifier\n",
    "Recall from the previous lesson that creating a support vector machine actually boils down to solving a convex optimization problem. You can use the the Python library \"cvxpy\" to do so, more information can be found [here](http://www.cvxpy.org/).\n",
    "\n",
    "You may have not used cvxpy before, so make sure it is installed using your terminal and the command `pip install cvxpy`.\n",
    "\n",
    "The four important commands to be used here are:\n",
    "\n",
    "- `cp.Variable()` where you either don't include antything between `()` or, if the variable is an array with multiple elements, the number of elements.\n",
    "- `cp.Minimize()` or `cp.Maximize`, with between the parentheses the element to be maximized.\n",
    "- `cp.Problem(objective, constraints)`, the objective is generally a stored minimization or maximization objective, the constraints are listed constraints. Constraints can be added by a \"+\" sign. \n",
    "- Next, you should store your `cp.Problem` in an object and use `object.solve()` to solve the optimization problem.\n",
    "\n",
    "To get more clarity, we strongly recommend to look at the example here. "
   ]
  },
  {
   "cell_type": "code",
   "execution_count": 2,
   "metadata": {},
   "outputs": [
    {
     "name": "stdout",
     "output_type": "stream",
     "text": [
      "Collecting cvxpy\n",
      "  Using cached https://files.pythonhosted.org/packages/b4/30/6eccf2333854e42591697e1950b1925384cb4080f302b1ddd11cd8103dd9/cvxpy-1.0.24.tar.gz\n",
      "Requirement already satisfied: osqp>=0.4.1 in /anaconda3/lib/python3.7/site-packages (from cvxpy) (0.5.0)\n",
      "Collecting ecos>=2 (from cvxpy)\n",
      "  Using cached https://files.pythonhosted.org/packages/b9/3a/59aa93b573a22fda44402383aeddcc2a081c31e61080af3da9d11855c77a/ecos-2.0.7.post1.tar.gz\n",
      "Collecting scs>=1.1.3 (from cvxpy)\n",
      "  Using cached https://files.pythonhosted.org/packages/07/a7/0b19c8f9476a4762d296c6c5fa860f2fe580a4f579fa53aaa8515f4ca217/scs-2.1.0.tar.gz\n",
      "Collecting multiprocess (from cvxpy)\n",
      "Requirement already satisfied: six in /anaconda3/lib/python3.7/site-packages (from cvxpy) (1.12.0)\n",
      "Requirement already satisfied: numpy>=1.15 in /anaconda3/lib/python3.7/site-packages (from cvxpy) (1.16.2)\n",
      "Requirement already satisfied: scipy>=1.1.0 in /anaconda3/lib/python3.7/site-packages (from cvxpy) (1.2.1)\n",
      "Requirement already satisfied: future in /anaconda3/lib/python3.7/site-packages (from osqp>=0.4.1->cvxpy) (0.17.1)\n",
      "Collecting dill>=0.2.9 (from multiprocess->cvxpy)\n",
      "Building wheels for collected packages: cvxpy, ecos, scs\n",
      "  Building wheel for cvxpy (setup.py) ... \u001b[?25lerror\n",
      "  Complete output from command /anaconda3/bin/python -u -c \"import setuptools, tokenize;__file__='/private/var/folders/ld/7wh0qtq11w59j1kd0dq1kcwm0000gn/T/pip-install-lbqba_xz/cvxpy/setup.py';f=getattr(tokenize, 'open', open)(__file__);code=f.read().replace('\\r\\n', '\\n');f.close();exec(compile(code, __file__, 'exec'))\" bdist_wheel -d /private/var/folders/ld/7wh0qtq11w59j1kd0dq1kcwm0000gn/T/pip-wheel-r2kyg4k0 --python-tag cp37:\n",
      "  running bdist_wheel\n",
      "  running build\n",
      "  running build_py\n",
      "  creating build\n",
      "  creating build/lib.macosx-10.7-x86_64-3.7\n",
      "  creating build/lib.macosx-10.7-x86_64-3.7/cvxpy\n",
      "  copying cvxpy/error.py -> build/lib.macosx-10.7-x86_64-3.7/cvxpy\n",
      "  copying cvxpy/__init__.py -> build/lib.macosx-10.7-x86_64-3.7/cvxpy\n",
      "  copying cvxpy/settings.py -> build/lib.macosx-10.7-x86_64-3.7/cvxpy\n",
      "  creating build/lib.macosx-10.7-x86_64-3.7/cvxpy/interface\n",
      "  copying cvxpy/interface/base_matrix_interface.py -> build/lib.macosx-10.7-x86_64-3.7/cvxpy/interface\n",
      "  copying cvxpy/interface/__init__.py -> build/lib.macosx-10.7-x86_64-3.7/cvxpy/interface\n",
      "  copying cvxpy/interface/scipy_wrapper.py -> build/lib.macosx-10.7-x86_64-3.7/cvxpy/interface\n",
      "  copying cvxpy/interface/matrix_utilities.py -> build/lib.macosx-10.7-x86_64-3.7/cvxpy/interface\n",
      "  creating build/lib.macosx-10.7-x86_64-3.7/cvxpy/atoms\n",
      "  copying cvxpy/atoms/max.py -> build/lib.macosx-10.7-x86_64-3.7/cvxpy/atoms\n",
      "  copying cvxpy/atoms/cummax.py -> build/lib.macosx-10.7-x86_64-3.7/cvxpy/atoms\n",
      "  copying cvxpy/atoms/matrix_frac.py -> build/lib.macosx-10.7-x86_64-3.7/cvxpy/atoms\n",
      "  copying cvxpy/atoms/lambda_max.py -> build/lib.macosx-10.7-x86_64-3.7/cvxpy/atoms\n",
      "  copying cvxpy/atoms/sigma_max.py -> build/lib.macosx-10.7-x86_64-3.7/cvxpy/atoms\n",
      "  copying cvxpy/atoms/total_variation.py -> build/lib.macosx-10.7-x86_64-3.7/cvxpy/atoms\n",
      "  copying cvxpy/atoms/eye_minus_inv.py -> build/lib.macosx-10.7-x86_64-3.7/cvxpy/atoms\n",
      "  copying cvxpy/atoms/length.py -> build/lib.macosx-10.7-x86_64-3.7/cvxpy/atoms\n",
      "  copying cvxpy/atoms/sum_smallest.py -> build/lib.macosx-10.7-x86_64-3.7/cvxpy/atoms\n",
      "  copying cvxpy/atoms/norm1.py -> build/lib.macosx-10.7-x86_64-3.7/cvxpy/atoms\n",
      "  copying cvxpy/atoms/lambda_sum_smallest.py -> build/lib.macosx-10.7-x86_64-3.7/cvxpy/atoms\n",
      "  copying cvxpy/atoms/norm.py -> build/lib.macosx-10.7-x86_64-3.7/cvxpy/atoms\n",
      "  copying cvxpy/atoms/pf_eigenvalue.py -> build/lib.macosx-10.7-x86_64-3.7/cvxpy/atoms\n",
      "  copying cvxpy/atoms/pnorm.py -> build/lib.macosx-10.7-x86_64-3.7/cvxpy/atoms\n",
      "  copying cvxpy/atoms/__init__.py -> build/lib.macosx-10.7-x86_64-3.7/cvxpy/atoms\n",
      "  copying cvxpy/atoms/sum_largest.py -> build/lib.macosx-10.7-x86_64-3.7/cvxpy/atoms\n",
      "  copying cvxpy/atoms/lambda_sum_largest.py -> build/lib.macosx-10.7-x86_64-3.7/cvxpy/atoms\n",
      "  copying cvxpy/atoms/sum_squares.py -> build/lib.macosx-10.7-x86_64-3.7/cvxpy/atoms\n",
      "  copying cvxpy/atoms/log_sum_exp.py -> build/lib.macosx-10.7-x86_64-3.7/cvxpy/atoms\n",
      "  copying cvxpy/atoms/norm_nuc.py -> build/lib.macosx-10.7-x86_64-3.7/cvxpy/atoms\n",
      "  copying cvxpy/atoms/dist_ratio.py -> build/lib.macosx-10.7-x86_64-3.7/cvxpy/atoms\n",
      "  copying cvxpy/atoms/mixed_norm.py -> build/lib.macosx-10.7-x86_64-3.7/cvxpy/atoms\n",
      "  copying cvxpy/atoms/min.py -> build/lib.macosx-10.7-x86_64-3.7/cvxpy/atoms\n",
      "  copying cvxpy/atoms/quad_over_lin.py -> build/lib.macosx-10.7-x86_64-3.7/cvxpy/atoms\n",
      "  copying cvxpy/atoms/geo_mean.py -> build/lib.macosx-10.7-x86_64-3.7/cvxpy/atoms\n",
      "  copying cvxpy/atoms/axis_atom.py -> build/lib.macosx-10.7-x86_64-3.7/cvxpy/atoms\n",
      "  copying cvxpy/atoms/lambda_min.py -> build/lib.macosx-10.7-x86_64-3.7/cvxpy/atoms\n",
      "  copying cvxpy/atoms/norm_inf.py -> build/lib.macosx-10.7-x86_64-3.7/cvxpy/atoms\n",
      "  copying cvxpy/atoms/one_minus_pos.py -> build/lib.macosx-10.7-x86_64-3.7/cvxpy/atoms\n",
      "  copying cvxpy/atoms/quad_form.py -> build/lib.macosx-10.7-x86_64-3.7/cvxpy/atoms\n",
      "  copying cvxpy/atoms/prod.py -> build/lib.macosx-10.7-x86_64-3.7/cvxpy/atoms\n",
      "  copying cvxpy/atoms/log_det.py -> build/lib.macosx-10.7-x86_64-3.7/cvxpy/atoms\n",
      "  copying cvxpy/atoms/harmonic_mean.py -> build/lib.macosx-10.7-x86_64-3.7/cvxpy/atoms\n",
      "  copying cvxpy/atoms/gen_lambda_max.py -> build/lib.macosx-10.7-x86_64-3.7/cvxpy/atoms\n",
      "  copying cvxpy/atoms/sign.py -> build/lib.macosx-10.7-x86_64-3.7/cvxpy/atoms\n",
      "  copying cvxpy/atoms/atom.py -> build/lib.macosx-10.7-x86_64-3.7/cvxpy/atoms\n",
      "  creating build/lib.macosx-10.7-x86_64-3.7/cvxpy/constraints\n",
      "  copying cvxpy/constraints/constraint.py -> build/lib.macosx-10.7-x86_64-3.7/cvxpy/constraints\n",
      "  copying cvxpy/constraints/__init__.py -> build/lib.macosx-10.7-x86_64-3.7/cvxpy/constraints\n",
      "  copying cvxpy/constraints/second_order.py -> build/lib.macosx-10.7-x86_64-3.7/cvxpy/constraints\n",
      "  copying cvxpy/constraints/exponential.py -> build/lib.macosx-10.7-x86_64-3.7/cvxpy/constraints\n",
      "  copying cvxpy/constraints/zero.py -> build/lib.macosx-10.7-x86_64-3.7/cvxpy/constraints\n",
      "  copying cvxpy/constraints/nonpos.py -> build/lib.macosx-10.7-x86_64-3.7/cvxpy/constraints\n",
      "  copying cvxpy/constraints/soc_axis.py -> build/lib.macosx-10.7-x86_64-3.7/cvxpy/constraints\n",
      "  copying cvxpy/constraints/psd.py -> build/lib.macosx-10.7-x86_64-3.7/cvxpy/constraints\n",
      "  copying cvxpy/constraints/utilities.py -> build/lib.macosx-10.7-x86_64-3.7/cvxpy/constraints\n",
      "  creating build/lib.macosx-10.7-x86_64-3.7/cvxpy/tests\n",
      "  copying cvxpy/tests/base_test.py -> build/lib.macosx-10.7-x86_64-3.7/cvxpy/tests\n",
      "  copying cvxpy/tests/test_mip_vars.py -> build/lib.macosx-10.7-x86_64-3.7/cvxpy/tests\n",
      "  copying cvxpy/tests/test_nonlinear_atoms.py -> build/lib.macosx-10.7-x86_64-3.7/cvxpy/tests\n",
      "  copying cvxpy/tests/test_expressions.py -> build/lib.macosx-10.7-x86_64-3.7/cvxpy/tests\n",
      "  copying cvxpy/tests/test_constant_atoms.py -> build/lib.macosx-10.7-x86_64-3.7/cvxpy/tests\n",
      "  copying cvxpy/tests/test_semidefinite_vars.py -> build/lib.macosx-10.7-x86_64-3.7/cvxpy/tests\n",
      "  copying cvxpy/tests/test_shape.py -> build/lib.macosx-10.7-x86_64-3.7/cvxpy/tests\n",
      "  copying cvxpy/tests/test_lin_ops.py -> build/lib.macosx-10.7-x86_64-3.7/cvxpy/tests\n",
      "  copying cvxpy/tests/test_benchmarks.py -> build/lib.macosx-10.7-x86_64-3.7/cvxpy/tests\n",
      "  copying cvxpy/tests/test_atoms.py -> build/lib.macosx-10.7-x86_64-3.7/cvxpy/tests\n",
      "  copying cvxpy/tests/test_solvers.py -> build/lib.macosx-10.7-x86_64-3.7/cvxpy/tests\n",
      "  copying cvxpy/tests/test_super_scs.py -> build/lib.macosx-10.7-x86_64-3.7/cvxpy/tests\n",
      "  copying cvxpy/tests/test_scs.py -> build/lib.macosx-10.7-x86_64-3.7/cvxpy/tests\n",
      "  copying cvxpy/tests/test_objectives.py -> build/lib.macosx-10.7-x86_64-3.7/cvxpy/tests\n",
      "  copying cvxpy/tests/test_dgp.py -> build/lib.macosx-10.7-x86_64-3.7/cvxpy/tests\n",
      "  copying cvxpy/tests/test_convolution.py -> build/lib.macosx-10.7-x86_64-3.7/cvxpy/tests\n",
      "  copying cvxpy/tests/__init__.py -> build/lib.macosx-10.7-x86_64-3.7/cvxpy/tests\n",
      "  copying cvxpy/tests/test_dgp2dcp.py -> build/lib.macosx-10.7-x86_64-3.7/cvxpy/tests\n",
      "  copying cvxpy/tests/test_qp.py -> build/lib.macosx-10.7-x86_64-3.7/cvxpy/tests\n",
      "  copying cvxpy/tests/test_mosek_conif.py -> build/lib.macosx-10.7-x86_64-3.7/cvxpy/tests\n",
      "  copying cvxpy/tests/test_matrices.py -> build/lib.macosx-10.7-x86_64-3.7/cvxpy/tests\n",
      "  copying cvxpy/tests/test_cbc.py -> build/lib.macosx-10.7-x86_64-3.7/cvxpy/tests\n",
      "  copying cvxpy/tests/test_non_optimal.py -> build/lib.macosx-10.7-x86_64-3.7/cvxpy/tests\n",
      "  copying cvxpy/tests/test_quad_form.py -> build/lib.macosx-10.7-x86_64-3.7/cvxpy/tests\n",
      "  copying cvxpy/tests/test_constraints.py -> build/lib.macosx-10.7-x86_64-3.7/cvxpy/tests\n",
      "  copying cvxpy/tests/test_monotonicity.py -> build/lib.macosx-10.7-x86_64-3.7/cvxpy/tests\n",
      "  copying cvxpy/tests/test_quadratic.py -> build/lib.macosx-10.7-x86_64-3.7/cvxpy/tests\n",
      "  copying cvxpy/tests/test_domain.py -> build/lib.macosx-10.7-x86_64-3.7/cvxpy/tests\n",
      "  copying cvxpy/tests/test_problem.py -> build/lib.macosx-10.7-x86_64-3.7/cvxpy/tests\n",
      "  copying cvxpy/tests/test_dqcp.py -> build/lib.macosx-10.7-x86_64-3.7/cvxpy/tests\n",
      "  copying cvxpy/tests/test_complex.py -> build/lib.macosx-10.7-x86_64-3.7/cvxpy/tests\n",
      "  copying cvxpy/tests/test_linear_cone.py -> build/lib.macosx-10.7-x86_64-3.7/cvxpy/tests\n",
      "  copying cvxpy/tests/test_interfaces.py -> build/lib.macosx-10.7-x86_64-3.7/cvxpy/tests\n",
      "  copying cvxpy/tests/test_curvature.py -> build/lib.macosx-10.7-x86_64-3.7/cvxpy/tests\n",
      "  copying cvxpy/tests/test_examples.py -> build/lib.macosx-10.7-x86_64-3.7/cvxpy/tests\n",
      "  copying cvxpy/tests/test_sign.py -> build/lib.macosx-10.7-x86_64-3.7/cvxpy/tests\n",
      "  copying cvxpy/tests/test_grad.py -> build/lib.macosx-10.7-x86_64-3.7/cvxpy/tests\n",
      "  creating build/lib.macosx-10.7-x86_64-3.7/cvxpy/problems\n",
      "  copying cvxpy/problems/objective.py -> build/lib.macosx-10.7-x86_64-3.7/cvxpy/problems\n",
      "  copying cvxpy/problems/xpress_problem.py -> build/lib.macosx-10.7-x86_64-3.7/cvxpy/problems\n",
      "  copying cvxpy/problems/__init__.py -> build/lib.macosx-10.7-x86_64-3.7/cvxpy/problems\n",
      "  copying cvxpy/problems/problem.py -> build/lib.macosx-10.7-x86_64-3.7/cvxpy/problems\n",
      "  copying cvxpy/problems/iterative.py -> build/lib.macosx-10.7-x86_64-3.7/cvxpy/problems\n",
      "  creating build/lib.macosx-10.7-x86_64-3.7/cvxpy/lin_ops\n",
      "  copying cvxpy/lin_ops/__init__.py -> build/lib.macosx-10.7-x86_64-3.7/cvxpy/lin_ops\n",
      "  copying cvxpy/lin_ops/lin_op.py -> build/lib.macosx-10.7-x86_64-3.7/cvxpy/lin_ops\n",
      "  copying cvxpy/lin_ops/lin_constraints.py -> build/lib.macosx-10.7-x86_64-3.7/cvxpy/lin_ops\n",
      "  copying cvxpy/lin_ops/lin_utils.py -> build/lib.macosx-10.7-x86_64-3.7/cvxpy/lin_ops\n",
      "  copying cvxpy/lin_ops/tree_mat.py -> build/lib.macosx-10.7-x86_64-3.7/cvxpy/lin_ops\n",
      "  creating build/lib.macosx-10.7-x86_64-3.7/cvxpy/utilities\n",
      "  copying cvxpy/utilities/cvxpy_upgrade.py -> build/lib.macosx-10.7-x86_64-3.7/cvxpy/utilities\n",
      "  copying cvxpy/utilities/replace_quad_forms.py -> build/lib.macosx-10.7-x86_64-3.7/cvxpy/utilities\n",
      "  copying cvxpy/utilities/power_tools.py -> build/lib.macosx-10.7-x86_64-3.7/cvxpy/utilities\n",
      "  copying cvxpy/utilities/deterministic.py -> build/lib.macosx-10.7-x86_64-3.7/cvxpy/utilities\n",
      "  copying cvxpy/utilities/performance_utils.py -> build/lib.macosx-10.7-x86_64-3.7/cvxpy/utilities\n",
      "  copying cvxpy/utilities/__init__.py -> build/lib.macosx-10.7-x86_64-3.7/cvxpy/utilities\n",
      "  copying cvxpy/utilities/key_utils.py -> build/lib.macosx-10.7-x86_64-3.7/cvxpy/utilities\n",
      "  copying cvxpy/utilities/canonical.py -> build/lib.macosx-10.7-x86_64-3.7/cvxpy/utilities\n",
      "  copying cvxpy/utilities/shape.py -> build/lib.macosx-10.7-x86_64-3.7/cvxpy/utilities\n",
      "  copying cvxpy/utilities/sign.py -> build/lib.macosx-10.7-x86_64-3.7/cvxpy/utilities\n",
      "  copying cvxpy/utilities/grad.py -> build/lib.macosx-10.7-x86_64-3.7/cvxpy/utilities\n",
      "  copying cvxpy/utilities/coeff_extractor.py -> build/lib.macosx-10.7-x86_64-3.7/cvxpy/utilities\n",
      "  creating build/lib.macosx-10.7-x86_64-3.7/cvxpy/transforms\n",
      "  copying cvxpy/transforms/indicator.py -> build/lib.macosx-10.7-x86_64-3.7/cvxpy/transforms\n",
      "  copying cvxpy/transforms/__init__.py -> build/lib.macosx-10.7-x86_64-3.7/cvxpy/transforms\n",
      "  copying cvxpy/transforms/separable_problems.py -> build/lib.macosx-10.7-x86_64-3.7/cvxpy/transforms\n",
      "  copying cvxpy/transforms/partial_optimize.py -> build/lib.macosx-10.7-x86_64-3.7/cvxpy/transforms\n",
      "  copying cvxpy/transforms/linearize.py -> build/lib.macosx-10.7-x86_64-3.7/cvxpy/transforms\n",
      "  copying cvxpy/transforms/scalarize.py -> build/lib.macosx-10.7-x86_64-3.7/cvxpy/transforms\n",
      "  creating build/lib.macosx-10.7-x86_64-3.7/cvxpy/expressions\n",
      "  copying cvxpy/expressions/cvxtypes.py -> build/lib.macosx-10.7-x86_64-3.7/cvxpy/expressions\n",
      "  copying cvxpy/expressions/leaf.py -> build/lib.macosx-10.7-x86_64-3.7/cvxpy/expressions\n",
      "  copying cvxpy/expressions/__init__.py -> build/lib.macosx-10.7-x86_64-3.7/cvxpy/expressions\n",
      "  copying cvxpy/expressions/variable.py -> build/lib.macosx-10.7-x86_64-3.7/cvxpy/expressions\n",
      "  copying cvxpy/expressions/expression.py -> build/lib.macosx-10.7-x86_64-3.7/cvxpy/expressions\n",
      "  creating build/lib.macosx-10.7-x86_64-3.7/cvxpy/cvxcore\n",
      "  copying cvxpy/cvxcore/__init__.py -> build/lib.macosx-10.7-x86_64-3.7/cvxpy/cvxcore\n",
      "  creating build/lib.macosx-10.7-x86_64-3.7/cvxpy/reductions\n",
      "  copying cvxpy/reductions/cvx_attr2constr.py -> build/lib.macosx-10.7-x86_64-3.7/cvxpy/reductions\n",
      "  copying cvxpy/reductions/canonicalization.py -> build/lib.macosx-10.7-x86_64-3.7/cvxpy/reductions\n",
      "  copying cvxpy/reductions/reduction.py -> build/lib.macosx-10.7-x86_64-3.7/cvxpy/reductions\n",
      "  copying cvxpy/reductions/chain.py -> build/lib.macosx-10.7-x86_64-3.7/cvxpy/reductions\n",
      "  copying cvxpy/reductions/solution.py -> build/lib.macosx-10.7-x86_64-3.7/cvxpy/reductions\n",
      "  copying cvxpy/reductions/__init__.py -> build/lib.macosx-10.7-x86_64-3.7/cvxpy/reductions\n",
      "  copying cvxpy/reductions/inverse_data.py -> build/lib.macosx-10.7-x86_64-3.7/cvxpy/reductions\n",
      "  copying cvxpy/reductions/eval_params.py -> build/lib.macosx-10.7-x86_64-3.7/cvxpy/reductions\n",
      "  copying cvxpy/reductions/matrix_stuffing.py -> build/lib.macosx-10.7-x86_64-3.7/cvxpy/reductions\n",
      "  copying cvxpy/reductions/utilities.py -> build/lib.macosx-10.7-x86_64-3.7/cvxpy/reductions\n",
      "  copying cvxpy/reductions/flip_objective.py -> build/lib.macosx-10.7-x86_64-3.7/cvxpy/reductions\n",
      "  creating build/lib.macosx-10.7-x86_64-3.7/cvxpy/interface/numpy_interface\n",
      "  copying cvxpy/interface/numpy_interface/matrix_interface.py -> build/lib.macosx-10.7-x86_64-3.7/cvxpy/interface/numpy_interface\n",
      "  copying cvxpy/interface/numpy_interface/sparse_matrix_interface.py -> build/lib.macosx-10.7-x86_64-3.7/cvxpy/interface/numpy_interface\n",
      "  copying cvxpy/interface/numpy_interface/__init__.py -> build/lib.macosx-10.7-x86_64-3.7/cvxpy/interface/numpy_interface\n",
      "  copying cvxpy/interface/numpy_interface/ndarray_interface.py -> build/lib.macosx-10.7-x86_64-3.7/cvxpy/interface/numpy_interface\n",
      "  creating build/lib.macosx-10.7-x86_64-3.7/cvxpy/atoms/affine\n",
      "  copying cvxpy/atoms/affine/vec.py -> build/lib.macosx-10.7-x86_64-3.7/cvxpy/atoms/affine\n",
      "  copying cvxpy/atoms/affine/trace.py -> build/lib.macosx-10.7-x86_64-3.7/cvxpy/atoms/affine\n",
      "  copying cvxpy/atoms/affine/unary_operators.py -> build/lib.macosx-10.7-x86_64-3.7/cvxpy/atoms/affine\n",
      "  copying cvxpy/atoms/affine/vstack.py -> build/lib.macosx-10.7-x86_64-3.7/cvxpy/atoms/affine\n",
      "  copying cvxpy/atoms/affine/affine_atom.py -> build/lib.macosx-10.7-x86_64-3.7/cvxpy/atoms/affine\n",
      "  copying cvxpy/atoms/affine/index.py -> build/lib.macosx-10.7-x86_64-3.7/cvxpy/atoms/affine\n",
      "  copying cvxpy/atoms/affine/upper_tri.py -> build/lib.macosx-10.7-x86_64-3.7/cvxpy/atoms/affine\n",
      "  copying cvxpy/atoms/affine/binary_operators.py -> build/lib.macosx-10.7-x86_64-3.7/cvxpy/atoms/affine\n",
      "  copying cvxpy/atoms/affine/hstack.py -> build/lib.macosx-10.7-x86_64-3.7/cvxpy/atoms/affine\n",
      "  copying cvxpy/atoms/affine/reshape.py -> build/lib.macosx-10.7-x86_64-3.7/cvxpy/atoms/affine\n",
      "  copying cvxpy/atoms/affine/bmat.py -> build/lib.macosx-10.7-x86_64-3.7/cvxpy/atoms/affine\n",
      "  copying cvxpy/atoms/affine/__init__.py -> build/lib.macosx-10.7-x86_64-3.7/cvxpy/atoms/affine\n",
      "  copying cvxpy/atoms/affine/promote.py -> build/lib.macosx-10.7-x86_64-3.7/cvxpy/atoms/affine\n",
      "  copying cvxpy/atoms/affine/real.py -> build/lib.macosx-10.7-x86_64-3.7/cvxpy/atoms/affine\n",
      "  copying cvxpy/atoms/affine/kron.py -> build/lib.macosx-10.7-x86_64-3.7/cvxpy/atoms/affine\n",
      "  copying cvxpy/atoms/affine/imag.py -> build/lib.macosx-10.7-x86_64-3.7/cvxpy/atoms/affine\n",
      "  copying cvxpy/atoms/affine/transpose.py -> build/lib.macosx-10.7-x86_64-3.7/cvxpy/atoms/affine\n",
      "  copying cvxpy/atoms/affine/diag.py -> build/lib.macosx-10.7-x86_64-3.7/cvxpy/atoms/affine\n",
      "  copying cvxpy/atoms/affine/add_expr.py -> build/lib.macosx-10.7-x86_64-3.7/cvxpy/atoms/affine\n",
      "  copying cvxpy/atoms/affine/diff.py -> build/lib.macosx-10.7-x86_64-3.7/cvxpy/atoms/affine\n",
      "  copying cvxpy/atoms/affine/sum.py -> build/lib.macosx-10.7-x86_64-3.7/cvxpy/atoms/affine\n",
      "  copying cvxpy/atoms/affine/conv.py -> build/lib.macosx-10.7-x86_64-3.7/cvxpy/atoms/affine\n",
      "  copying cvxpy/atoms/affine/cumsum.py -> build/lib.macosx-10.7-x86_64-3.7/cvxpy/atoms/affine\n",
      "  copying cvxpy/atoms/affine/conj.py -> build/lib.macosx-10.7-x86_64-3.7/cvxpy/atoms/affine\n",
      "  copying cvxpy/atoms/affine/wraps.py -> build/lib.macosx-10.7-x86_64-3.7/cvxpy/atoms/affine\n",
      "  creating build/lib.macosx-10.7-x86_64-3.7/cvxpy/atoms/elementwise\n",
      "  copying cvxpy/atoms/elementwise/kl_div.py -> build/lib.macosx-10.7-x86_64-3.7/cvxpy/atoms/elementwise\n",
      "  copying cvxpy/atoms/elementwise/pos.py -> build/lib.macosx-10.7-x86_64-3.7/cvxpy/atoms/elementwise\n",
      "  copying cvxpy/atoms/elementwise/neg.py -> build/lib.macosx-10.7-x86_64-3.7/cvxpy/atoms/elementwise\n",
      "  copying cvxpy/atoms/elementwise/sqrt.py -> build/lib.macosx-10.7-x86_64-3.7/cvxpy/atoms/elementwise\n",
      "  copying cvxpy/atoms/elementwise/entr.py -> build/lib.macosx-10.7-x86_64-3.7/cvxpy/atoms/elementwise\n",
      "  copying cvxpy/atoms/elementwise/log.py -> build/lib.macosx-10.7-x86_64-3.7/cvxpy/atoms/elementwise\n",
      "  copying cvxpy/atoms/elementwise/logistic.py -> build/lib.macosx-10.7-x86_64-3.7/cvxpy/atoms/elementwise\n",
      "  copying cvxpy/atoms/elementwise/elementwise.py -> build/lib.macosx-10.7-x86_64-3.7/cvxpy/atoms/elementwise\n",
      "  copying cvxpy/atoms/elementwise/abs.py -> build/lib.macosx-10.7-x86_64-3.7/cvxpy/atoms/elementwise\n",
      "  copying cvxpy/atoms/elementwise/__init__.py -> build/lib.macosx-10.7-x86_64-3.7/cvxpy/atoms/elementwise\n",
      "  copying cvxpy/atoms/elementwise/ceil.py -> build/lib.macosx-10.7-x86_64-3.7/cvxpy/atoms/elementwise\n",
      "  copying cvxpy/atoms/elementwise/maximum.py -> build/lib.macosx-10.7-x86_64-3.7/cvxpy/atoms/elementwise\n",
      "  copying cvxpy/atoms/elementwise/minimum.py -> build/lib.macosx-10.7-x86_64-3.7/cvxpy/atoms/elementwise\n",
      "  copying cvxpy/atoms/elementwise/huber.py -> build/lib.macosx-10.7-x86_64-3.7/cvxpy/atoms/elementwise\n",
      "  copying cvxpy/atoms/elementwise/scalene.py -> build/lib.macosx-10.7-x86_64-3.7/cvxpy/atoms/elementwise\n",
      "  copying cvxpy/atoms/elementwise/square.py -> build/lib.macosx-10.7-x86_64-3.7/cvxpy/atoms/elementwise\n",
      "  copying cvxpy/atoms/elementwise/inv_pos.py -> build/lib.macosx-10.7-x86_64-3.7/cvxpy/atoms/elementwise\n",
      "  copying cvxpy/atoms/elementwise/exp.py -> build/lib.macosx-10.7-x86_64-3.7/cvxpy/atoms/elementwise\n",
      "  copying cvxpy/atoms/elementwise/log1p.py -> build/lib.macosx-10.7-x86_64-3.7/cvxpy/atoms/elementwise\n",
      "  copying cvxpy/atoms/elementwise/power.py -> build/lib.macosx-10.7-x86_64-3.7/cvxpy/atoms/elementwise\n",
      "  creating build/lib.macosx-10.7-x86_64-3.7/cvxpy/expressions/constants\n",
      "  copying cvxpy/expressions/constants/__init__.py -> build/lib.macosx-10.7-x86_64-3.7/cvxpy/expressions/constants\n",
      "  copying cvxpy/expressions/constants/callback_param.py -> build/lib.macosx-10.7-x86_64-3.7/cvxpy/expressions/constants\n",
      "  copying cvxpy/expressions/constants/constant.py -> build/lib.macosx-10.7-x86_64-3.7/cvxpy/expressions/constants\n",
      "  copying cvxpy/expressions/constants/parameter.py -> build/lib.macosx-10.7-x86_64-3.7/cvxpy/expressions/constants\n",
      "  creating build/lib.macosx-10.7-x86_64-3.7/cvxpy/cvxcore/python\n",
      "  copying cvxpy/cvxcore/python/canonInterface.py -> build/lib.macosx-10.7-x86_64-3.7/cvxpy/cvxcore/python\n",
      "  copying cvxpy/cvxcore/python/__init__.py -> build/lib.macosx-10.7-x86_64-3.7/cvxpy/cvxcore/python\n",
      "  copying cvxpy/cvxcore/python/cvxcore.py -> build/lib.macosx-10.7-x86_64-3.7/cvxpy/cvxcore/python\n",
      "  creating build/lib.macosx-10.7-x86_64-3.7/cvxpy/reductions/complex2real\n",
      "  copying cvxpy/reductions/complex2real/complex2real.py -> build/lib.macosx-10.7-x86_64-3.7/cvxpy/reductions/complex2real\n",
      "  copying cvxpy/reductions/complex2real/__init__.py -> build/lib.macosx-10.7-x86_64-3.7/cvxpy/reductions/complex2real\n",
      "  creating build/lib.macosx-10.7-x86_64-3.7/cvxpy/reductions/qp2quad_form\n",
      "  copying cvxpy/reductions/qp2quad_form/qp_matrix_stuffing.py -> build/lib.macosx-10.7-x86_64-3.7/cvxpy/reductions/qp2quad_form\n",
      "  copying cvxpy/reductions/qp2quad_form/__init__.py -> build/lib.macosx-10.7-x86_64-3.7/cvxpy/reductions/qp2quad_form\n",
      "  copying cvxpy/reductions/qp2quad_form/qp2symbolic_qp.py -> build/lib.macosx-10.7-x86_64-3.7/cvxpy/reductions/qp2quad_form\n",
      "  creating build/lib.macosx-10.7-x86_64-3.7/cvxpy/reductions/dcp2cone\n",
      "  copying cvxpy/reductions/dcp2cone/__init__.py -> build/lib.macosx-10.7-x86_64-3.7/cvxpy/reductions/dcp2cone\n",
      "  copying cvxpy/reductions/dcp2cone/cone_matrix_stuffing.py -> build/lib.macosx-10.7-x86_64-3.7/cvxpy/reductions/dcp2cone\n",
      "  copying cvxpy/reductions/dcp2cone/dcp2cone.py -> build/lib.macosx-10.7-x86_64-3.7/cvxpy/reductions/dcp2cone\n",
      "  creating build/lib.macosx-10.7-x86_64-3.7/cvxpy/reductions/solvers\n",
      "  copying cvxpy/reductions/solvers/kktsolver.py -> build/lib.macosx-10.7-x86_64-3.7/cvxpy/reductions/solvers\n",
      "  copying cvxpy/reductions/solvers/solving_chain.py -> build/lib.macosx-10.7-x86_64-3.7/cvxpy/reductions/solvers\n",
      "  copying cvxpy/reductions/solvers/solver.py -> build/lib.macosx-10.7-x86_64-3.7/cvxpy/reductions/solvers\n",
      "  copying cvxpy/reductions/solvers/__init__.py -> build/lib.macosx-10.7-x86_64-3.7/cvxpy/reductions/solvers\n",
      "  copying cvxpy/reductions/solvers/compr_matrix.py -> build/lib.macosx-10.7-x86_64-3.7/cvxpy/reductions/solvers\n",
      "  copying cvxpy/reductions/solvers/defines.py -> build/lib.macosx-10.7-x86_64-3.7/cvxpy/reductions/solvers\n",
      "  copying cvxpy/reductions/solvers/constant_solver.py -> build/lib.macosx-10.7-x86_64-3.7/cvxpy/reductions/solvers\n",
      "  copying cvxpy/reductions/solvers/intermediate_chain.py -> build/lib.macosx-10.7-x86_64-3.7/cvxpy/reductions/solvers\n",
      "  copying cvxpy/reductions/solvers/utilities.py -> build/lib.macosx-10.7-x86_64-3.7/cvxpy/reductions/solvers\n",
      "  copying cvxpy/reductions/solvers/bisection.py -> build/lib.macosx-10.7-x86_64-3.7/cvxpy/reductions/solvers\n",
      "  creating build/lib.macosx-10.7-x86_64-3.7/cvxpy/reductions/dqcp2dcp\n",
      "  copying cvxpy/reductions/dqcp2dcp/__init__.py -> build/lib.macosx-10.7-x86_64-3.7/cvxpy/reductions/dqcp2dcp\n",
      "  copying cvxpy/reductions/dqcp2dcp/tighten.py -> build/lib.macosx-10.7-x86_64-3.7/cvxpy/reductions/dqcp2dcp\n",
      "  copying cvxpy/reductions/dqcp2dcp/dqcp2dcp.py -> build/lib.macosx-10.7-x86_64-3.7/cvxpy/reductions/dqcp2dcp\n",
      "  copying cvxpy/reductions/dqcp2dcp/sets.py -> build/lib.macosx-10.7-x86_64-3.7/cvxpy/reductions/dqcp2dcp\n",
      "  copying cvxpy/reductions/dqcp2dcp/inverse.py -> build/lib.macosx-10.7-x86_64-3.7/cvxpy/reductions/dqcp2dcp\n",
      "  creating build/lib.macosx-10.7-x86_64-3.7/cvxpy/reductions/dgp2dcp\n",
      "  copying cvxpy/reductions/dgp2dcp/dgp2dcp.py -> build/lib.macosx-10.7-x86_64-3.7/cvxpy/reductions/dgp2dcp\n",
      "  copying cvxpy/reductions/dgp2dcp/__init__.py -> build/lib.macosx-10.7-x86_64-3.7/cvxpy/reductions/dgp2dcp\n",
      "  creating build/lib.macosx-10.7-x86_64-3.7/cvxpy/reductions/eliminate_pwl\n",
      "  copying cvxpy/reductions/eliminate_pwl/eliminate_pwl.py -> build/lib.macosx-10.7-x86_64-3.7/cvxpy/reductions/eliminate_pwl\n",
      "  copying cvxpy/reductions/eliminate_pwl/__init__.py -> build/lib.macosx-10.7-x86_64-3.7/cvxpy/reductions/eliminate_pwl\n",
      "  creating build/lib.macosx-10.7-x86_64-3.7/cvxpy/reductions/complex2real/atom_canonicalizers\n",
      "  copying cvxpy/reductions/complex2real/atom_canonicalizers/constant_canon.py -> build/lib.macosx-10.7-x86_64-3.7/cvxpy/reductions/complex2real/atom_canonicalizers\n",
      "  copying cvxpy/reductions/complex2real/atom_canonicalizers/param_canon.py -> build/lib.macosx-10.7-x86_64-3.7/cvxpy/reductions/complex2real/atom_canonicalizers\n",
      "  copying cvxpy/reductions/complex2real/atom_canonicalizers/variable_canon.py -> build/lib.macosx-10.7-x86_64-3.7/cvxpy/reductions/complex2real/atom_canonicalizers\n",
      "  copying cvxpy/reductions/complex2real/atom_canonicalizers/__init__.py -> build/lib.macosx-10.7-x86_64-3.7/cvxpy/reductions/complex2real/atom_canonicalizers\n",
      "  copying cvxpy/reductions/complex2real/atom_canonicalizers/aff_canon.py -> build/lib.macosx-10.7-x86_64-3.7/cvxpy/reductions/complex2real/atom_canonicalizers\n",
      "  copying cvxpy/reductions/complex2real/atom_canonicalizers/pnorm_canon.py -> build/lib.macosx-10.7-x86_64-3.7/cvxpy/reductions/complex2real/atom_canonicalizers\n",
      "  copying cvxpy/reductions/complex2real/atom_canonicalizers/matrix_canon.py -> build/lib.macosx-10.7-x86_64-3.7/cvxpy/reductions/complex2real/atom_canonicalizers\n",
      "  copying cvxpy/reductions/complex2real/atom_canonicalizers/zero_canon.py -> build/lib.macosx-10.7-x86_64-3.7/cvxpy/reductions/complex2real/atom_canonicalizers\n",
      "  copying cvxpy/reductions/complex2real/atom_canonicalizers/abs_canon.py -> build/lib.macosx-10.7-x86_64-3.7/cvxpy/reductions/complex2real/atom_canonicalizers\n",
      "  creating build/lib.macosx-10.7-x86_64-3.7/cvxpy/reductions/qp2quad_form/atom_canonicalizers\n",
      "  copying cvxpy/reductions/qp2quad_form/atom_canonicalizers/quad_form_canon.py -> build/lib.macosx-10.7-x86_64-3.7/cvxpy/reductions/qp2quad_form/atom_canonicalizers\n",
      "  copying cvxpy/reductions/qp2quad_form/atom_canonicalizers/quad_over_lin_canon.py -> build/lib.macosx-10.7-x86_64-3.7/cvxpy/reductions/qp2quad_form/atom_canonicalizers\n",
      "  copying cvxpy/reductions/qp2quad_form/atom_canonicalizers/power_canon.py -> build/lib.macosx-10.7-x86_64-3.7/cvxpy/reductions/qp2quad_form/atom_canonicalizers\n",
      "  copying cvxpy/reductions/qp2quad_form/atom_canonicalizers/__init__.py -> build/lib.macosx-10.7-x86_64-3.7/cvxpy/reductions/qp2quad_form/atom_canonicalizers\n",
      "  copying cvxpy/reductions/qp2quad_form/atom_canonicalizers/huber_canon.py -> build/lib.macosx-10.7-x86_64-3.7/cvxpy/reductions/qp2quad_form/atom_canonicalizers\n",
      "  creating build/lib.macosx-10.7-x86_64-3.7/cvxpy/reductions/dcp2cone/atom_canonicalizers\n",
      "  copying cvxpy/reductions/dcp2cone/atom_canonicalizers/quad_form_canon.py -> build/lib.macosx-10.7-x86_64-3.7/cvxpy/reductions/dcp2cone/atom_canonicalizers\n",
      "  copying cvxpy/reductions/dcp2cone/atom_canonicalizers/log1p_canon.py -> build/lib.macosx-10.7-x86_64-3.7/cvxpy/reductions/dcp2cone/atom_canonicalizers\n",
      "  copying cvxpy/reductions/dcp2cone/atom_canonicalizers/log_det_canon.py -> build/lib.macosx-10.7-x86_64-3.7/cvxpy/reductions/dcp2cone/atom_canonicalizers\n",
      "  copying cvxpy/reductions/dcp2cone/atom_canonicalizers/geo_mean_canon.py -> build/lib.macosx-10.7-x86_64-3.7/cvxpy/reductions/dcp2cone/atom_canonicalizers\n",
      "  copying cvxpy/reductions/dcp2cone/atom_canonicalizers/exp_canon.py -> build/lib.macosx-10.7-x86_64-3.7/cvxpy/reductions/dcp2cone/atom_canonicalizers\n",
      "  copying cvxpy/reductions/dcp2cone/atom_canonicalizers/quad_over_lin_canon.py -> build/lib.macosx-10.7-x86_64-3.7/cvxpy/reductions/dcp2cone/atom_canonicalizers\n",
      "  copying cvxpy/reductions/dcp2cone/atom_canonicalizers/power_canon.py -> build/lib.macosx-10.7-x86_64-3.7/cvxpy/reductions/dcp2cone/atom_canonicalizers\n",
      "  copying cvxpy/reductions/dcp2cone/atom_canonicalizers/log_sum_exp_canon.py -> build/lib.macosx-10.7-x86_64-3.7/cvxpy/reductions/dcp2cone/atom_canonicalizers\n",
      "  copying cvxpy/reductions/dcp2cone/atom_canonicalizers/__init__.py -> build/lib.macosx-10.7-x86_64-3.7/cvxpy/reductions/dcp2cone/atom_canonicalizers\n",
      "  copying cvxpy/reductions/dcp2cone/atom_canonicalizers/normNuc_canon.py -> build/lib.macosx-10.7-x86_64-3.7/cvxpy/reductions/dcp2cone/atom_canonicalizers\n",
      "  copying cvxpy/reductions/dcp2cone/atom_canonicalizers/logistic_canon.py -> build/lib.macosx-10.7-x86_64-3.7/cvxpy/reductions/dcp2cone/atom_canonicalizers\n",
      "  copying cvxpy/reductions/dcp2cone/atom_canonicalizers/matrix_frac_canon.py -> build/lib.macosx-10.7-x86_64-3.7/cvxpy/reductions/dcp2cone/atom_canonicalizers\n",
      "  copying cvxpy/reductions/dcp2cone/atom_canonicalizers/sigma_max_canon.py -> build/lib.macosx-10.7-x86_64-3.7/cvxpy/reductions/dcp2cone/atom_canonicalizers\n",
      "  copying cvxpy/reductions/dcp2cone/atom_canonicalizers/cumsum_canon.py -> build/lib.macosx-10.7-x86_64-3.7/cvxpy/reductions/dcp2cone/atom_canonicalizers\n",
      "  copying cvxpy/reductions/dcp2cone/atom_canonicalizers/pnorm_canon.py -> build/lib.macosx-10.7-x86_64-3.7/cvxpy/reductions/dcp2cone/atom_canonicalizers\n",
      "  copying cvxpy/reductions/dcp2cone/atom_canonicalizers/lambda_sum_largest_canon.py -> build/lib.macosx-10.7-x86_64-3.7/cvxpy/reductions/dcp2cone/atom_canonicalizers\n",
      "  copying cvxpy/reductions/dcp2cone/atom_canonicalizers/lambda_max_canon.py -> build/lib.macosx-10.7-x86_64-3.7/cvxpy/reductions/dcp2cone/atom_canonicalizers\n",
      "  copying cvxpy/reductions/dcp2cone/atom_canonicalizers/huber_canon.py -> build/lib.macosx-10.7-x86_64-3.7/cvxpy/reductions/dcp2cone/atom_canonicalizers\n",
      "  copying cvxpy/reductions/dcp2cone/atom_canonicalizers/entr_canon.py -> build/lib.macosx-10.7-x86_64-3.7/cvxpy/reductions/dcp2cone/atom_canonicalizers\n",
      "  copying cvxpy/reductions/dcp2cone/atom_canonicalizers/log_canon.py -> build/lib.macosx-10.7-x86_64-3.7/cvxpy/reductions/dcp2cone/atom_canonicalizers\n",
      "  copying cvxpy/reductions/dcp2cone/atom_canonicalizers/indicator_canon.py -> build/lib.macosx-10.7-x86_64-3.7/cvxpy/reductions/dcp2cone/atom_canonicalizers\n",
      "  copying cvxpy/reductions/dcp2cone/atom_canonicalizers/kl_div_canon.py -> build/lib.macosx-10.7-x86_64-3.7/cvxpy/reductions/dcp2cone/atom_canonicalizers\n",
      "  creating build/lib.macosx-10.7-x86_64-3.7/cvxpy/reductions/solvers/conic_solvers\n",
      "  copying cvxpy/reductions/solvers/conic_solvers/conic_solver.py -> build/lib.macosx-10.7-x86_64-3.7/cvxpy/reductions/solvers/conic_solvers\n",
      "  copying cvxpy/reductions/solvers/conic_solvers/ecos_bb_conif.py -> build/lib.macosx-10.7-x86_64-3.7/cvxpy/reductions/solvers/conic_solvers\n",
      "  copying cvxpy/reductions/solvers/conic_solvers/cbc_conif.py -> build/lib.macosx-10.7-x86_64-3.7/cvxpy/reductions/solvers/conic_solvers\n",
      "  copying cvxpy/reductions/solvers/conic_solvers/ecos_conif.py -> build/lib.macosx-10.7-x86_64-3.7/cvxpy/reductions/solvers/conic_solvers\n",
      "  copying cvxpy/reductions/solvers/conic_solvers/mosek_conif.py -> build/lib.macosx-10.7-x86_64-3.7/cvxpy/reductions/solvers/conic_solvers\n",
      "  copying cvxpy/reductions/solvers/conic_solvers/scs_conif.py -> build/lib.macosx-10.7-x86_64-3.7/cvxpy/reductions/solvers/conic_solvers\n",
      "  copying cvxpy/reductions/solvers/conic_solvers/super_scs_conif.py -> build/lib.macosx-10.7-x86_64-3.7/cvxpy/reductions/solvers/conic_solvers\n",
      "  copying cvxpy/reductions/solvers/conic_solvers/__init__.py -> build/lib.macosx-10.7-x86_64-3.7/cvxpy/reductions/solvers/conic_solvers\n",
      "  copying cvxpy/reductions/solvers/conic_solvers/xpress_conif.py -> build/lib.macosx-10.7-x86_64-3.7/cvxpy/reductions/solvers/conic_solvers\n",
      "  copying cvxpy/reductions/solvers/conic_solvers/cplex_conif.py -> build/lib.macosx-10.7-x86_64-3.7/cvxpy/reductions/solvers/conic_solvers\n",
      "  copying cvxpy/reductions/solvers/conic_solvers/cvxopt_conif.py -> build/lib.macosx-10.7-x86_64-3.7/cvxpy/reductions/solvers/conic_solvers\n",
      "  copying cvxpy/reductions/solvers/conic_solvers/glpk_mi_conif.py -> build/lib.macosx-10.7-x86_64-3.7/cvxpy/reductions/solvers/conic_solvers\n",
      "  copying cvxpy/reductions/solvers/conic_solvers/glpk_conif.py -> build/lib.macosx-10.7-x86_64-3.7/cvxpy/reductions/solvers/conic_solvers\n",
      "  copying cvxpy/reductions/solvers/conic_solvers/gurobi_conif.py -> build/lib.macosx-10.7-x86_64-3.7/cvxpy/reductions/solvers/conic_solvers\n",
      "  creating build/lib.macosx-10.7-x86_64-3.7/cvxpy/reductions/solvers/lp_solvers\n",
      "  copying cvxpy/reductions/solvers/lp_solvers/__init__.py -> build/lib.macosx-10.7-x86_64-3.7/cvxpy/reductions/solvers/lp_solvers\n",
      "  copying cvxpy/reductions/solvers/lp_solvers/cbc_lpif.py -> build/lib.macosx-10.7-x86_64-3.7/cvxpy/reductions/solvers/lp_solvers\n",
      "  creating build/lib.macosx-10.7-x86_64-3.7/cvxpy/reductions/solvers/qp_solvers\n",
      "  copying cvxpy/reductions/solvers/qp_solvers/osqp_qpif.py -> build/lib.macosx-10.7-x86_64-3.7/cvxpy/reductions/solvers/qp_solvers\n",
      "  copying cvxpy/reductions/solvers/qp_solvers/qp_solver.py -> build/lib.macosx-10.7-x86_64-3.7/cvxpy/reductions/solvers/qp_solvers\n",
      "  copying cvxpy/reductions/solvers/qp_solvers/cplex_qpif.py -> build/lib.macosx-10.7-x86_64-3.7/cvxpy/reductions/solvers/qp_solvers\n",
      "  copying cvxpy/reductions/solvers/qp_solvers/__init__.py -> build/lib.macosx-10.7-x86_64-3.7/cvxpy/reductions/solvers/qp_solvers\n",
      "  copying cvxpy/reductions/solvers/qp_solvers/gurobi_qpif.py -> build/lib.macosx-10.7-x86_64-3.7/cvxpy/reductions/solvers/qp_solvers\n",
      "  creating build/lib.macosx-10.7-x86_64-3.7/cvxpy/reductions/dgp2dcp/atom_canonicalizers\n",
      "  copying cvxpy/reductions/dgp2dcp/atom_canonicalizers/quad_form_canon.py -> build/lib.macosx-10.7-x86_64-3.7/cvxpy/reductions/dgp2dcp/atom_canonicalizers\n",
      "  copying cvxpy/reductions/dgp2dcp/atom_canonicalizers/constant_canon.py -> build/lib.macosx-10.7-x86_64-3.7/cvxpy/reductions/dgp2dcp/atom_canonicalizers\n",
      "  copying cvxpy/reductions/dgp2dcp/atom_canonicalizers/parameter_canon.py -> build/lib.macosx-10.7-x86_64-3.7/cvxpy/reductions/dgp2dcp/atom_canonicalizers\n",
      "  copying cvxpy/reductions/dgp2dcp/atom_canonicalizers/eye_minus_inv_canon.py -> build/lib.macosx-10.7-x86_64-3.7/cvxpy/reductions/dgp2dcp/atom_canonicalizers\n",
      "  copying cvxpy/reductions/dgp2dcp/atom_canonicalizers/norm1_canon.py -> build/lib.macosx-10.7-x86_64-3.7/cvxpy/reductions/dgp2dcp/atom_canonicalizers\n",
      "  copying cvxpy/reductions/dgp2dcp/atom_canonicalizers/div_canon.py -> build/lib.macosx-10.7-x86_64-3.7/cvxpy/reductions/dgp2dcp/atom_canonicalizers\n",
      "  copying cvxpy/reductions/dgp2dcp/atom_canonicalizers/geo_mean_canon.py -> build/lib.macosx-10.7-x86_64-3.7/cvxpy/reductions/dgp2dcp/atom_canonicalizers\n",
      "  copying cvxpy/reductions/dgp2dcp/atom_canonicalizers/nonpos_constr_canon.py -> build/lib.macosx-10.7-x86_64-3.7/cvxpy/reductions/dgp2dcp/atom_canonicalizers\n",
      "  copying cvxpy/reductions/dgp2dcp/atom_canonicalizers/add_canon.py -> build/lib.macosx-10.7-x86_64-3.7/cvxpy/reductions/dgp2dcp/atom_canonicalizers\n",
      "  copying cvxpy/reductions/dgp2dcp/atom_canonicalizers/exp_canon.py -> build/lib.macosx-10.7-x86_64-3.7/cvxpy/reductions/dgp2dcp/atom_canonicalizers\n",
      "  copying cvxpy/reductions/dgp2dcp/atom_canonicalizers/quad_over_lin_canon.py -> build/lib.macosx-10.7-x86_64-3.7/cvxpy/reductions/dgp2dcp/atom_canonicalizers\n",
      "  copying cvxpy/reductions/dgp2dcp/atom_canonicalizers/power_canon.py -> build/lib.macosx-10.7-x86_64-3.7/cvxpy/reductions/dgp2dcp/atom_canonicalizers\n",
      "  copying cvxpy/reductions/dgp2dcp/atom_canonicalizers/pf_eigenvalue_canon.py -> build/lib.macosx-10.7-x86_64-3.7/cvxpy/reductions/dgp2dcp/atom_canonicalizers\n",
      "  copying cvxpy/reductions/dgp2dcp/atom_canonicalizers/__init__.py -> build/lib.macosx-10.7-x86_64-3.7/cvxpy/reductions/dgp2dcp/atom_canonicalizers\n",
      "  copying cvxpy/reductions/dgp2dcp/atom_canonicalizers/pnorm_canon.py -> build/lib.macosx-10.7-x86_64-3.7/cvxpy/reductions/dgp2dcp/atom_canonicalizers\n",
      "  copying cvxpy/reductions/dgp2dcp/atom_canonicalizers/zero_constr_canon.py -> build/lib.macosx-10.7-x86_64-3.7/cvxpy/reductions/dgp2dcp/atom_canonicalizers\n",
      "  copying cvxpy/reductions/dgp2dcp/atom_canonicalizers/norm_inf_canon.py -> build/lib.macosx-10.7-x86_64-3.7/cvxpy/reductions/dgp2dcp/atom_canonicalizers\n",
      "  copying cvxpy/reductions/dgp2dcp/atom_canonicalizers/trace_canon.py -> build/lib.macosx-10.7-x86_64-3.7/cvxpy/reductions/dgp2dcp/atom_canonicalizers\n",
      "  copying cvxpy/reductions/dgp2dcp/atom_canonicalizers/mulexpression_canon.py -> build/lib.macosx-10.7-x86_64-3.7/cvxpy/reductions/dgp2dcp/atom_canonicalizers\n",
      "  copying cvxpy/reductions/dgp2dcp/atom_canonicalizers/log_canon.py -> build/lib.macosx-10.7-x86_64-3.7/cvxpy/reductions/dgp2dcp/atom_canonicalizers\n",
      "  copying cvxpy/reductions/dgp2dcp/atom_canonicalizers/prod_canon.py -> build/lib.macosx-10.7-x86_64-3.7/cvxpy/reductions/dgp2dcp/atom_canonicalizers\n",
      "  copying cvxpy/reductions/dgp2dcp/atom_canonicalizers/one_minus_pos_canon.py -> build/lib.macosx-10.7-x86_64-3.7/cvxpy/reductions/dgp2dcp/atom_canonicalizers\n",
      "  copying cvxpy/reductions/dgp2dcp/atom_canonicalizers/sum_canon.py -> build/lib.macosx-10.7-x86_64-3.7/cvxpy/reductions/dgp2dcp/atom_canonicalizers\n",
      "  copying cvxpy/reductions/dgp2dcp/atom_canonicalizers/mul_canon.py -> build/lib.macosx-10.7-x86_64-3.7/cvxpy/reductions/dgp2dcp/atom_canonicalizers\n",
      "  creating build/lib.macosx-10.7-x86_64-3.7/cvxpy/reductions/eliminate_pwl/atom_canonicalizers\n",
      "  copying cvxpy/reductions/eliminate_pwl/atom_canonicalizers/norm1_canon.py -> build/lib.macosx-10.7-x86_64-3.7/cvxpy/reductions/eliminate_pwl/atom_canonicalizers\n",
      "  copying cvxpy/reductions/eliminate_pwl/atom_canonicalizers/__init__.py -> build/lib.macosx-10.7-x86_64-3.7/cvxpy/reductions/eliminate_pwl/atom_canonicalizers\n",
      "  copying cvxpy/reductions/eliminate_pwl/atom_canonicalizers/max_canon.py -> build/lib.macosx-10.7-x86_64-3.7/cvxpy/reductions/eliminate_pwl/atom_canonicalizers\n",
      "  copying cvxpy/reductions/eliminate_pwl/atom_canonicalizers/maximum_canon.py -> build/lib.macosx-10.7-x86_64-3.7/cvxpy/reductions/eliminate_pwl/atom_canonicalizers\n",
      "  copying cvxpy/reductions/eliminate_pwl/atom_canonicalizers/minimum_canon.py -> build/lib.macosx-10.7-x86_64-3.7/cvxpy/reductions/eliminate_pwl/atom_canonicalizers\n",
      "  copying cvxpy/reductions/eliminate_pwl/atom_canonicalizers/sum_largest_canon.py -> build/lib.macosx-10.7-x86_64-3.7/cvxpy/reductions/eliminate_pwl/atom_canonicalizers\n",
      "  copying cvxpy/reductions/eliminate_pwl/atom_canonicalizers/norm_inf_canon.py -> build/lib.macosx-10.7-x86_64-3.7/cvxpy/reductions/eliminate_pwl/atom_canonicalizers\n",
      "  copying cvxpy/reductions/eliminate_pwl/atom_canonicalizers/min_canon.py -> build/lib.macosx-10.7-x86_64-3.7/cvxpy/reductions/eliminate_pwl/atom_canonicalizers\n",
      "  copying cvxpy/reductions/eliminate_pwl/atom_canonicalizers/abs_canon.py -> build/lib.macosx-10.7-x86_64-3.7/cvxpy/reductions/eliminate_pwl/atom_canonicalizers\n",
      "  Fixing build/lib.macosx-10.7-x86_64-3.7/cvxpy/error.py build/lib.macosx-10.7-x86_64-3.7/cvxpy/__init__.py build/lib.macosx-10.7-x86_64-3.7/cvxpy/settings.py build/lib.macosx-10.7-x86_64-3.7/cvxpy/interface/base_matrix_interface.py build/lib.macosx-10.7-x86_64-3.7/cvxpy/interface/__init__.py build/lib.macosx-10.7-x86_64-3.7/cvxpy/interface/scipy_wrapper.py build/lib.macosx-10.7-x86_64-3.7/cvxpy/interface/matrix_utilities.py build/lib.macosx-10.7-x86_64-3.7/cvxpy/atoms/max.py build/lib.macosx-10.7-x86_64-3.7/cvxpy/atoms/cummax.py build/lib.macosx-10.7-x86_64-3.7/cvxpy/atoms/matrix_frac.py build/lib.macosx-10.7-x86_64-3.7/cvxpy/atoms/lambda_max.py build/lib.macosx-10.7-x86_64-3.7/cvxpy/atoms/sigma_max.py build/lib.macosx-10.7-x86_64-3.7/cvxpy/atoms/total_variation.py build/lib.macosx-10.7-x86_64-3.7/cvxpy/atoms/eye_minus_inv.py build/lib.macosx-10.7-x86_64-3.7/cvxpy/atoms/length.py build/lib.macosx-10.7-x86_64-3.7/cvxpy/atoms/sum_smallest.py build/lib.macosx-10.7-x86_64-3.7/cvxpy/atoms/norm1.py build/lib.macosx-10.7-x86_64-3.7/cvxpy/atoms/lambda_sum_smallest.py build/lib.macosx-10.7-x86_64-3.7/cvxpy/atoms/norm.py build/lib.macosx-10.7-x86_64-3.7/cvxpy/atoms/pf_eigenvalue.py build/lib.macosx-10.7-x86_64-3.7/cvxpy/atoms/pnorm.py build/lib.macosx-10.7-x86_64-3.7/cvxpy/atoms/__init__.py build/lib.macosx-10.7-x86_64-3.7/cvxpy/atoms/sum_largest.py build/lib.macosx-10.7-x86_64-3.7/cvxpy/atoms/lambda_sum_largest.py build/lib.macosx-10.7-x86_64-3.7/cvxpy/atoms/sum_squares.py build/lib.macosx-10.7-x86_64-3.7/cvxpy/atoms/log_sum_exp.py build/lib.macosx-10.7-x86_64-3.7/cvxpy/atoms/norm_nuc.py build/lib.macosx-10.7-x86_64-3.7/cvxpy/atoms/dist_ratio.py build/lib.macosx-10.7-x86_64-3.7/cvxpy/atoms/mixed_norm.py build/lib.macosx-10.7-x86_64-3.7/cvxpy/atoms/min.py build/lib.macosx-10.7-x86_64-3.7/cvxpy/atoms/quad_over_lin.py build/lib.macosx-10.7-x86_64-3.7/cvxpy/atoms/geo_mean.py build/lib.macosx-10.7-x86_64-3.7/cvxpy/atoms/axis_atom.py build/lib.macosx-10.7-x86_64-3.7/cvxpy/atoms/lambda_min.py build/lib.macosx-10.7-x86_64-3.7/cvxpy/atoms/norm_inf.py build/lib.macosx-10.7-x86_64-3.7/cvxpy/atoms/one_minus_pos.py build/lib.macosx-10.7-x86_64-3.7/cvxpy/atoms/quad_form.py build/lib.macosx-10.7-x86_64-3.7/cvxpy/atoms/prod.py build/lib.macosx-10.7-x86_64-3.7/cvxpy/atoms/log_det.py build/lib.macosx-10.7-x86_64-3.7/cvxpy/atoms/harmonic_mean.py build/lib.macosx-10.7-x86_64-3.7/cvxpy/atoms/gen_lambda_max.py build/lib.macosx-10.7-x86_64-3.7/cvxpy/atoms/sign.py build/lib.macosx-10.7-x86_64-3.7/cvxpy/atoms/atom.py build/lib.macosx-10.7-x86_64-3.7/cvxpy/constraints/constraint.py build/lib.macosx-10.7-x86_64-3.7/cvxpy/constraints/__init__.py build/lib.macosx-10.7-x86_64-3.7/cvxpy/constraints/second_order.py build/lib.macosx-10.7-x86_64-3.7/cvxpy/constraints/exponential.py build/lib.macosx-10.7-x86_64-3.7/cvxpy/constraints/zero.py build/lib.macosx-10.7-x86_64-3.7/cvxpy/constraints/nonpos.py build/lib.macosx-10.7-x86_64-3.7/cvxpy/constraints/soc_axis.py build/lib.macosx-10.7-x86_64-3.7/cvxpy/constraints/psd.py build/lib.macosx-10.7-x86_64-3.7/cvxpy/constraints/utilities.py build/lib.macosx-10.7-x86_64-3.7/cvxpy/tests/base_test.py build/lib.macosx-10.7-x86_64-3.7/cvxpy/tests/test_mip_vars.py build/lib.macosx-10.7-x86_64-3.7/cvxpy/tests/test_nonlinear_atoms.py build/lib.macosx-10.7-x86_64-3.7/cvxpy/tests/test_expressions.py build/lib.macosx-10.7-x86_64-3.7/cvxpy/tests/test_constant_atoms.py build/lib.macosx-10.7-x86_64-3.7/cvxpy/tests/test_semidefinite_vars.py build/lib.macosx-10.7-x86_64-3.7/cvxpy/tests/test_shape.py build/lib.macosx-10.7-x86_64-3.7/cvxpy/tests/test_lin_ops.py build/lib.macosx-10.7-x86_64-3.7/cvxpy/tests/test_benchmarks.py build/lib.macosx-10.7-x86_64-3.7/cvxpy/tests/test_atoms.py build/lib.macosx-10.7-x86_64-3.7/cvxpy/tests/test_solvers.py build/lib.macosx-10.7-x86_64-3.7/cvxpy/tests/test_super_scs.py build/lib.macosx-10.7-x86_64-3.7/cvxpy/tests/test_scs.py build/lib.macosx-10.7-x86_64-3.7/cvxpy/tests/test_objectives.py build/lib.macosx-10.7-x86_64-3.7/cvxpy/tests/test_dgp.py build/lib.macosx-10.7-x86_64-3.7/cvxpy/tests/test_convolution.py build/lib.macosx-10.7-x86_64-3.7/cvxpy/tests/__init__.py build/lib.macosx-10.7-x86_64-3.7/cvxpy/tests/test_dgp2dcp.py build/lib.macosx-10.7-x86_64-3.7/cvxpy/tests/test_qp.py build/lib.macosx-10.7-x86_64-3.7/cvxpy/tests/test_mosek_conif.py build/lib.macosx-10.7-x86_64-3.7/cvxpy/tests/test_matrices.py build/lib.macosx-10.7-x86_64-3.7/cvxpy/tests/test_cbc.py build/lib.macosx-10.7-x86_64-3.7/cvxpy/tests/test_non_optimal.py build/lib.macosx-10.7-x86_64-3.7/cvxpy/tests/test_quad_form.py build/lib.macosx-10.7-x86_64-3.7/cvxpy/tests/test_constraints.py build/lib.macosx-10.7-x86_64-3.7/cvxpy/tests/test_monotonicity.py build/lib.macosx-10.7-x86_64-3.7/cvxpy/tests/test_quadratic.py build/lib.macosx-10.7-x86_64-3.7/cvxpy/tests/test_domain.py build/lib.macosx-10.7-x86_64-3.7/cvxpy/tests/test_problem.py build/lib.macosx-10.7-x86_64-3.7/cvxpy/tests/test_dqcp.py build/lib.macosx-10.7-x86_64-3.7/cvxpy/tests/test_complex.py build/lib.macosx-10.7-x86_64-3.7/cvxpy/tests/test_linear_cone.py build/lib.macosx-10.7-x86_64-3.7/cvxpy/tests/test_interfaces.py build/lib.macosx-10.7-x86_64-3.7/cvxpy/tests/test_curvature.py build/lib.macosx-10.7-x86_64-3.7/cvxpy/tests/test_examples.py build/lib.macosx-10.7-x86_64-3.7/cvxpy/tests/test_sign.py build/lib.macosx-10.7-x86_64-3.7/cvxpy/tests/test_grad.py build/lib.macosx-10.7-x86_64-3.7/cvxpy/problems/objective.py build/lib.macosx-10.7-x86_64-3.7/cvxpy/problems/xpress_problem.py build/lib.macosx-10.7-x86_64-3.7/cvxpy/problems/__init__.py build/lib.macosx-10.7-x86_64-3.7/cvxpy/problems/problem.py build/lib.macosx-10.7-x86_64-3.7/cvxpy/problems/iterative.py build/lib.macosx-10.7-x86_64-3.7/cvxpy/lin_ops/__init__.py build/lib.macosx-10.7-x86_64-3.7/cvxpy/lin_ops/lin_op.py build/lib.macosx-10.7-x86_64-3.7/cvxpy/lin_ops/lin_constraints.py build/lib.macosx-10.7-x86_64-3.7/cvxpy/lin_ops/lin_utils.py build/lib.macosx-10.7-x86_64-3.7/cvxpy/lin_ops/tree_mat.py build/lib.macosx-10.7-x86_64-3.7/cvxpy/utilities/cvxpy_upgrade.py build/lib.macosx-10.7-x86_64-3.7/cvxpy/utilities/replace_quad_forms.py build/lib.macosx-10.7-x86_64-3.7/cvxpy/utilities/power_tools.py build/lib.macosx-10.7-x86_64-3.7/cvxpy/utilities/deterministic.py build/lib.macosx-10.7-x86_64-3.7/cvxpy/utilities/performance_utils.py build/lib.macosx-10.7-x86_64-3.7/cvxpy/utilities/__init__.py build/lib.macosx-10.7-x86_64-3.7/cvxpy/utilities/key_utils.py build/lib.macosx-10.7-x86_64-3.7/cvxpy/utilities/canonical.py build/lib.macosx-10.7-x86_64-3.7/cvxpy/utilities/shape.py build/lib.macosx-10.7-x86_64-3.7/cvxpy/utilities/sign.py build/lib.macosx-10.7-x86_64-3.7/cvxpy/utilities/grad.py build/lib.macosx-10.7-x86_64-3.7/cvxpy/utilities/coeff_extractor.py build/lib.macosx-10.7-x86_64-3.7/cvxpy/transforms/indicator.py build/lib.macosx-10.7-x86_64-3.7/cvxpy/transforms/__init__.py build/lib.macosx-10.7-x86_64-3.7/cvxpy/transforms/separable_problems.py build/lib.macosx-10.7-x86_64-3.7/cvxpy/transforms/partial_optimize.py build/lib.macosx-10.7-x86_64-3.7/cvxpy/transforms/linearize.py build/lib.macosx-10.7-x86_64-3.7/cvxpy/transforms/scalarize.py build/lib.macosx-10.7-x86_64-3.7/cvxpy/expressions/cvxtypes.py build/lib.macosx-10.7-x86_64-3.7/cvxpy/expressions/leaf.py build/lib.macosx-10.7-x86_64-3.7/cvxpy/expressions/__init__.py build/lib.macosx-10.7-x86_64-3.7/cvxpy/expressions/variable.py build/lib.macosx-10.7-x86_64-3.7/cvxpy/expressions/expression.py build/lib.macosx-10.7-x86_64-3.7/cvxpy/cvxcore/__init__.py build/lib.macosx-10.7-x86_64-3.7/cvxpy/reductions/cvx_attr2constr.py build/lib.macosx-10.7-x86_64-3.7/cvxpy/reductions/canonicalization.py build/lib.macosx-10.7-x86_64-3.7/cvxpy/reductions/reduction.py build/lib.macosx-10.7-x86_64-3.7/cvxpy/reductions/chain.py build/lib.macosx-10.7-x86_64-3.7/cvxpy/reductions/solution.py build/lib.macosx-10.7-x86_64-3.7/cvxpy/reductions/__init__.py build/lib.macosx-10.7-x86_64-3.7/cvxpy/reductions/inverse_data.py build/lib.macosx-10.7-x86_64-3.7/cvxpy/reductions/eval_params.py build/lib.macosx-10.7-x86_64-3.7/cvxpy/reductions/matrix_stuffing.py build/lib.macosx-10.7-x86_64-3.7/cvxpy/reductions/utilities.py build/lib.macosx-10.7-x86_64-3.7/cvxpy/reductions/flip_objective.py build/lib.macosx-10.7-x86_64-3.7/cvxpy/interface/numpy_interface/matrix_interface.py build/lib.macosx-10.7-x86_64-3.7/cvxpy/interface/numpy_interface/sparse_matrix_interface.py build/lib.macosx-10.7-x86_64-3.7/cvxpy/interface/numpy_interface/__init__.py build/lib.macosx-10.7-x86_64-3.7/cvxpy/interface/numpy_interface/ndarray_interface.py build/lib.macosx-10.7-x86_64-3.7/cvxpy/atoms/affine/vec.py build/lib.macosx-10.7-x86_64-3.7/cvxpy/atoms/affine/trace.py build/lib.macosx-10.7-x86_64-3.7/cvxpy/atoms/affine/unary_operators.py build/lib.macosx-10.7-x86_64-3.7/cvxpy/atoms/affine/vstack.py build/lib.macosx-10.7-x86_64-3.7/cvxpy/atoms/affine/affine_atom.py build/lib.macosx-10.7-x86_64-3.7/cvxpy/atoms/affine/index.py build/lib.macosx-10.7-x86_64-3.7/cvxpy/atoms/affine/upper_tri.py build/lib.macosx-10.7-x86_64-3.7/cvxpy/atoms/affine/binary_operators.py build/lib.macosx-10.7-x86_64-3.7/cvxpy/atoms/affine/hstack.py build/lib.macosx-10.7-x86_64-3.7/cvxpy/atoms/affine/reshape.py build/lib.macosx-10.7-x86_64-3.7/cvxpy/atoms/affine/bmat.py build/lib.macosx-10.7-x86_64-3.7/cvxpy/atoms/affine/__init__.py build/lib.macosx-10.7-x86_64-3.7/cvxpy/atoms/affine/promote.py build/lib.macosx-10.7-x86_64-3.7/cvxpy/atoms/affine/real.py build/lib.macosx-10.7-x86_64-3.7/cvxpy/atoms/affine/kron.py build/lib.macosx-10.7-x86_64-3.7/cvxpy/atoms/affine/imag.py build/lib.macosx-10.7-x86_64-3.7/cvxpy/atoms/affine/transpose.py build/lib.macosx-10.7-x86_64-3.7/cvxpy/atoms/affine/diag.py build/lib.macosx-10.7-x86_64-3.7/cvxpy/atoms/affine/add_expr.py build/lib.macosx-10.7-x86_64-3.7/cvxpy/atoms/affine/diff.py build/lib.macosx-10.7-x86_64-3.7/cvxpy/atoms/affine/sum.py build/lib.macosx-10.7-x86_64-3.7/cvxpy/atoms/affine/conv.py build/lib.macosx-10.7-x86_64-3.7/cvxpy/atoms/affine/cumsum.py build/lib.macosx-10.7-x86_64-3.7/cvxpy/atoms/affine/conj.py build/lib.macosx-10.7-x86_64-3.7/cvxpy/atoms/affine/wraps.py build/lib.macosx-10.7-x86_64-3.7/cvxpy/atoms/elementwise/kl_div.py build/lib.macosx-10.7-x86_64-3.7/cvxpy/atoms/elementwise/pos.py build/lib.macosx-10.7-x86_64-3.7/cvxpy/atoms/elementwise/neg.py build/lib.macosx-10.7-x86_64-3.7/cvxpy/atoms/elementwise/sqrt.py build/lib.macosx-10.7-x86_64-3.7/cvxpy/atoms/elementwise/entr.py build/lib.macosx-10.7-x86_64-3.7/cvxpy/atoms/elementwise/log.py build/lib.macosx-10.7-x86_64-3.7/cvxpy/atoms/elementwise/logistic.py build/lib.macosx-10.7-x86_64-3.7/cvxpy/atoms/elementwise/elementwise.py build/lib.macosx-10.7-x86_64-3.7/cvxpy/atoms/elementwise/abs.py build/lib.macosx-10.7-x86_64-3.7/cvxpy/atoms/elementwise/__init__.py build/lib.macosx-10.7-x86_64-3.7/cvxpy/atoms/elementwise/ceil.py build/lib.macosx-10.7-x86_64-3.7/cvxpy/atoms/elementwise/maximum.py build/lib.macosx-10.7-x86_64-3.7/cvxpy/atoms/elementwise/minimum.py build/lib.macosx-10.7-x86_64-3.7/cvxpy/atoms/elementwise/huber.py build/lib.macosx-10.7-x86_64-3.7/cvxpy/atoms/elementwise/scalene.py build/lib.macosx-10.7-x86_64-3.7/cvxpy/atoms/elementwise/square.py build/lib.macosx-10.7-x86_64-3.7/cvxpy/atoms/elementwise/inv_pos.py build/lib.macosx-10.7-x86_64-3.7/cvxpy/atoms/elementwise/exp.py build/lib.macosx-10.7-x86_64-3.7/cvxpy/atoms/elementwise/log1p.py build/lib.macosx-10.7-x86_64-3.7/cvxpy/atoms/elementwise/power.py build/lib.macosx-10.7-x86_64-3.7/cvxpy/expressions/constants/__init__.py build/lib.macosx-10.7-x86_64-3.7/cvxpy/expressions/constants/callback_param.py build/lib.macosx-10.7-x86_64-3.7/cvxpy/expressions/constants/constant.py build/lib.macosx-10.7-x86_64-3.7/cvxpy/expressions/constants/parameter.py build/lib.macosx-10.7-x86_64-3.7/cvxpy/cvxcore/python/canonInterface.py build/lib.macosx-10.7-x86_64-3.7/cvxpy/cvxcore/python/__init__.py build/lib.macosx-10.7-x86_64-3.7/cvxpy/cvxcore/python/cvxcore.py build/lib.macosx-10.7-x86_64-3.7/cvxpy/reductions/complex2real/complex2real.py build/lib.macosx-10.7-x86_64-3.7/cvxpy/reductions/complex2real/__init__.py build/lib.macosx-10.7-x86_64-3.7/cvxpy/reductions/qp2quad_form/qp_matrix_stuffing.py build/lib.macosx-10.7-x86_64-3.7/cvxpy/reductions/qp2quad_form/__init__.py build/lib.macosx-10.7-x86_64-3.7/cvxpy/reductions/qp2quad_form/qp2symbolic_qp.py build/lib.macosx-10.7-x86_64-3.7/cvxpy/reductions/dcp2cone/__init__.py build/lib.macosx-10.7-x86_64-3.7/cvxpy/reductions/dcp2cone/cone_matrix_stuffing.py build/lib.macosx-10.7-x86_64-3.7/cvxpy/reductions/dcp2cone/dcp2cone.py build/lib.macosx-10.7-x86_64-3.7/cvxpy/reductions/solvers/kktsolver.py build/lib.macosx-10.7-x86_64-3.7/cvxpy/reductions/solvers/solving_chain.py build/lib.macosx-10.7-x86_64-3.7/cvxpy/reductions/solvers/solver.py build/lib.macosx-10.7-x86_64-3.7/cvxpy/reductions/solvers/__init__.py build/lib.macosx-10.7-x86_64-3.7/cvxpy/reductions/solvers/compr_matrix.py build/lib.macosx-10.7-x86_64-3.7/cvxpy/reductions/solvers/defines.py build/lib.macosx-10.7-x86_64-3.7/cvxpy/reductions/solvers/constant_solver.py build/lib.macosx-10.7-x86_64-3.7/cvxpy/reductions/solvers/intermediate_chain.py build/lib.macosx-10.7-x86_64-3.7/cvxpy/reductions/solvers/utilities.py build/lib.macosx-10.7-x86_64-3.7/cvxpy/reductions/solvers/bisection.py build/lib.macosx-10.7-x86_64-3.7/cvxpy/reductions/dqcp2dcp/__init__.py build/lib.macosx-10.7-x86_64-3.7/cvxpy/reductions/dqcp2dcp/tighten.py build/lib.macosx-10.7-x86_64-3.7/cvxpy/reductions/dqcp2dcp/dqcp2dcp.py build/lib.macosx-10.7-x86_64-3.7/cvxpy/reductions/dqcp2dcp/sets.py build/lib.macosx-10.7-x86_64-3.7/cvxpy/reductions/dqcp2dcp/inverse.py build/lib.macosx-10.7-x86_64-3.7/cvxpy/reductions/dgp2dcp/dgp2dcp.py build/lib.macosx-10.7-x86_64-3.7/cvxpy/reductions/dgp2dcp/__init__.py build/lib.macosx-10.7-x86_64-3.7/cvxpy/reductions/eliminate_pwl/eliminate_pwl.py build/lib.macosx-10.7-x86_64-3.7/cvxpy/reductions/eliminate_pwl/__init__.py build/lib.macosx-10.7-x86_64-3.7/cvxpy/reductions/complex2real/atom_canonicalizers/constant_canon.py build/lib.macosx-10.7-x86_64-3.7/cvxpy/reductions/complex2real/atom_canonicalizers/param_canon.py build/lib.macosx-10.7-x86_64-3.7/cvxpy/reductions/complex2real/atom_canonicalizers/variable_canon.py build/lib.macosx-10.7-x86_64-3.7/cvxpy/reductions/complex2real/atom_canonicalizers/__init__.py build/lib.macosx-10.7-x86_64-3.7/cvxpy/reductions/complex2real/atom_canonicalizers/aff_canon.py build/lib.macosx-10.7-x86_64-3.7/cvxpy/reductions/complex2real/atom_canonicalizers/pnorm_canon.py build/lib.macosx-10.7-x86_64-3.7/cvxpy/reductions/complex2real/atom_canonicalizers/matrix_canon.py build/lib.macosx-10.7-x86_64-3.7/cvxpy/reductions/complex2real/atom_canonicalizers/zero_canon.py build/lib.macosx-10.7-x86_64-3.7/cvxpy/reductions/complex2real/atom_canonicalizers/abs_canon.py build/lib.macosx-10.7-x86_64-3.7/cvxpy/reductions/qp2quad_form/atom_canonicalizers/quad_form_canon.py build/lib.macosx-10.7-x86_64-3.7/cvxpy/reductions/qp2quad_form/atom_canonicalizers/quad_over_lin_canon.py build/lib.macosx-10.7-x86_64-3.7/cvxpy/reductions/qp2quad_form/atom_canonicalizers/power_canon.py build/lib.macosx-10.7-x86_64-3.7/cvxpy/reductions/qp2quad_form/atom_canonicalizers/__init__.py build/lib.macosx-10.7-x86_64-3.7/cvxpy/reductions/qp2quad_form/atom_canonicalizers/huber_canon.py build/lib.macosx-10.7-x86_64-3.7/cvxpy/reductions/dcp2cone/atom_canonicalizers/quad_form_canon.py build/lib.macosx-10.7-x86_64-3.7/cvxpy/reductions/dcp2cone/atom_canonicalizers/log1p_canon.py build/lib.macosx-10.7-x86_64-3.7/cvxpy/reductions/dcp2cone/atom_canonicalizers/log_det_canon.py build/lib.macosx-10.7-x86_64-3.7/cvxpy/reductions/dcp2cone/atom_canonicalizers/geo_mean_canon.py build/lib.macosx-10.7-x86_64-3.7/cvxpy/reductions/dcp2cone/atom_canonicalizers/exp_canon.py build/lib.macosx-10.7-x86_64-3.7/cvxpy/reductions/dcp2cone/atom_canonicalizers/quad_over_lin_canon.py build/lib.macosx-10.7-x86_64-3.7/cvxpy/reductions/dcp2cone/atom_canonicalizers/power_canon.py build/lib.macosx-10.7-x86_64-3.7/cvxpy/reductions/dcp2cone/atom_canonicalizers/log_sum_exp_canon.py build/lib.macosx-10.7-x86_64-3.7/cvxpy/reductions/dcp2cone/atom_canonicalizers/__init__.py build/lib.macosx-10.7-x86_64-3.7/cvxpy/reductions/dcp2cone/atom_canonicalizers/normNuc_canon.py build/lib.macosx-10.7-x86_64-3.7/cvxpy/reductions/dcp2cone/atom_canonicalizers/logistic_canon.py build/lib.macosx-10.7-x86_64-3.7/cvxpy/reductions/dcp2cone/atom_canonicalizers/matrix_frac_canon.py build/lib.macosx-10.7-x86_64-3.7/cvxpy/reductions/dcp2cone/atom_canonicalizers/sigma_max_canon.py build/lib.macosx-10.7-x86_64-3.7/cvxpy/reductions/dcp2cone/atom_canonicalizers/cumsum_canon.py build/lib.macosx-10.7-x86_64-3.7/cvxpy/reductions/dcp2cone/atom_canonicalizers/pnorm_canon.py build/lib.macosx-10.7-x86_64-3.7/cvxpy/reductions/dcp2cone/atom_canonicalizers/lambda_sum_largest_canon.py build/lib.macosx-10.7-x86_64-3.7/cvxpy/reductions/dcp2cone/atom_canonicalizers/lambda_max_canon.py build/lib.macosx-10.7-x86_64-3.7/cvxpy/reductions/dcp2cone/atom_canonicalizers/huber_canon.py build/lib.macosx-10.7-x86_64-3.7/cvxpy/reductions/dcp2cone/atom_canonicalizers/entr_canon.py build/lib.macosx-10.7-x86_64-3.7/cvxpy/reductions/dcp2cone/atom_canonicalizers/log_canon.py build/lib.macosx-10.7-x86_64-3.7/cvxpy/reductions/dcp2cone/atom_canonicalizers/indicator_canon.py build/lib.macosx-10.7-x86_64-3.7/cvxpy/reductions/dcp2cone/atom_canonicalizers/kl_div_canon.py build/lib.macosx-10.7-x86_64-3.7/cvxpy/reductions/solvers/conic_solvers/conic_solver.py build/lib.macosx-10.7-x86_64-3.7/cvxpy/reductions/solvers/conic_solvers/ecos_bb_conif.py build/lib.macosx-10.7-x86_64-3.7/cvxpy/reductions/solvers/conic_solvers/cbc_conif.py build/lib.macosx-10.7-x86_64-3.7/cvxpy/reductions/solvers/conic_solvers/ecos_conif.py build/lib.macosx-10.7-x86_64-3.7/cvxpy/reductions/solvers/conic_solvers/mosek_conif.py build/lib.macosx-10.7-x86_64-3.7/cvxpy/reductions/solvers/conic_solvers/scs_conif.py build/lib.macosx-10.7-x86_64-3.7/cvxpy/reductions/solvers/conic_solvers/super_scs_conif.py build/lib.macosx-10.7-x86_64-3.7/cvxpy/reductions/solvers/conic_solvers/__init__.py build/lib.macosx-10.7-x86_64-3.7/cvxpy/reductions/solvers/conic_solvers/xpress_conif.py build/lib.macosx-10.7-x86_64-3.7/cvxpy/reductions/solvers/conic_solvers/cplex_conif.py build/lib.macosx-10.7-x86_64-3.7/cvxpy/reductions/solvers/conic_solvers/cvxopt_conif.py build/lib.macosx-10.7-x86_64-3.7/cvxpy/reductions/solvers/conic_solvers/glpk_mi_conif.py build/lib.macosx-10.7-x86_64-3.7/cvxpy/reductions/solvers/conic_solvers/glpk_conif.py build/lib.macosx-10.7-x86_64-3.7/cvxpy/reductions/solvers/conic_solvers/gurobi_conif.py build/lib.macosx-10.7-x86_64-3.7/cvxpy/reductions/solvers/lp_solvers/__init__.py build/lib.macosx-10.7-x86_64-3.7/cvxpy/reductions/solvers/lp_solvers/cbc_lpif.py build/lib.macosx-10.7-x86_64-3.7/cvxpy/reductions/solvers/qp_solvers/osqp_qpif.py build/lib.macosx-10.7-x86_64-3.7/cvxpy/reductions/solvers/qp_solvers/qp_solver.py build/lib.macosx-10.7-x86_64-3.7/cvxpy/reductions/solvers/qp_solvers/cplex_qpif.py build/lib.macosx-10.7-x86_64-3.7/cvxpy/reductions/solvers/qp_solvers/__init__.py build/lib.macosx-10.7-x86_64-3.7/cvxpy/reductions/solvers/qp_solvers/gurobi_qpif.py build/lib.macosx-10.7-x86_64-3.7/cvxpy/reductions/dgp2dcp/atom_canonicalizers/quad_form_canon.py build/lib.macosx-10.7-x86_64-3.7/cvxpy/reductions/dgp2dcp/atom_canonicalizers/constant_canon.py build/lib.macosx-10.7-x86_64-3.7/cvxpy/reductions/dgp2dcp/atom_canonicalizers/parameter_canon.py build/lib.macosx-10.7-x86_64-3.7/cvxpy/reductions/dgp2dcp/atom_canonicalizers/eye_minus_inv_canon.py build/lib.macosx-10.7-x86_64-3.7/cvxpy/reductions/dgp2dcp/atom_canonicalizers/norm1_canon.py build/lib.macosx-10.7-x86_64-3.7/cvxpy/reductions/dgp2dcp/atom_canonicalizers/div_canon.py build/lib.macosx-10.7-x86_64-3.7/cvxpy/reductions/dgp2dcp/atom_canonicalizers/geo_mean_canon.py build/lib.macosx-10.7-x86_64-3.7/cvxpy/reductions/dgp2dcp/atom_canonicalizers/nonpos_constr_canon.py build/lib.macosx-10.7-x86_64-3.7/cvxpy/reductions/dgp2dcp/atom_canonicalizers/add_canon.py build/lib.macosx-10.7-x86_64-3.7/cvxpy/reductions/dgp2dcp/atom_canonicalizers/exp_canon.py build/lib.macosx-10.7-x86_64-3.7/cvxpy/reductions/dgp2dcp/atom_canonicalizers/quad_over_lin_canon.py build/lib.macosx-10.7-x86_64-3.7/cvxpy/reductions/dgp2dcp/atom_canonicalizers/power_canon.py build/lib.macosx-10.7-x86_64-3.7/cvxpy/reductions/dgp2dcp/atom_canonicalizers/pf_eigenvalue_canon.py build/lib.macosx-10.7-x86_64-3.7/cvxpy/reductions/dgp2dcp/atom_canonicalizers/__init__.py build/lib.macosx-10.7-x86_64-3.7/cvxpy/reductions/dgp2dcp/atom_canonicalizers/pnorm_canon.py build/lib.macosx-10.7-x86_64-3.7/cvxpy/reductions/dgp2dcp/atom_canonicalizers/zero_constr_canon.py build/lib.macosx-10.7-x86_64-3.7/cvxpy/reductions/dgp2dcp/atom_canonicalizers/norm_inf_canon.py build/lib.macosx-10.7-x86_64-3.7/cvxpy/reductions/dgp2dcp/atom_canonicalizers/trace_canon.py build/lib.macosx-10.7-x86_64-3.7/cvxpy/reductions/dgp2dcp/atom_canonicalizers/mulexpression_canon.py build/lib.macosx-10.7-x86_64-3.7/cvxpy/reductions/dgp2dcp/atom_canonicalizers/log_canon.py build/lib.macosx-10.7-x86_64-3.7/cvxpy/reductions/dgp2dcp/atom_canonicalizers/prod_canon.py build/lib.macosx-10.7-x86_64-3.7/cvxpy/reductions/dgp2dcp/atom_canonicalizers/one_minus_pos_canon.py build/lib.macosx-10.7-x86_64-3.7/cvxpy/reductions/dgp2dcp/atom_canonicalizers/sum_canon.py build/lib.macosx-10.7-x86_64-3.7/cvxpy/reductions/dgp2dcp/atom_canonicalizers/mul_canon.py build/lib.macosx-10.7-x86_64-3.7/cvxpy/reductions/eliminate_pwl/atom_canonicalizers/norm1_canon.py build/lib.macosx-10.7-x86_64-3.7/cvxpy/reductions/eliminate_pwl/atom_canonicalizers/__init__.py build/lib.macosx-10.7-x86_64-3.7/cvxpy/reductions/eliminate_pwl/atom_canonicalizers/max_canon.py build/lib.macosx-10.7-x86_64-3.7/cvxpy/reductions/eliminate_pwl/atom_canonicalizers/maximum_canon.py build/lib.macosx-10.7-x86_64-3.7/cvxpy/reductions/eliminate_pwl/atom_canonicalizers/minimum_canon.py build/lib.macosx-10.7-x86_64-3.7/cvxpy/reductions/eliminate_pwl/atom_canonicalizers/sum_largest_canon.py build/lib.macosx-10.7-x86_64-3.7/cvxpy/reductions/eliminate_pwl/atom_canonicalizers/norm_inf_canon.py build/lib.macosx-10.7-x86_64-3.7/cvxpy/reductions/eliminate_pwl/atom_canonicalizers/min_canon.py build/lib.macosx-10.7-x86_64-3.7/cvxpy/reductions/eliminate_pwl/atom_canonicalizers/abs_canon.py\n",
      "  Skipping optional fixer: buffer\n",
      "  Skipping optional fixer: idioms\n",
      "  Skipping optional fixer: set_literal\n",
      "  Skipping optional fixer: ws_comma\n",
      "  Fixing build/lib.macosx-10.7-x86_64-3.7/cvxpy/error.py build/lib.macosx-10.7-x86_64-3.7/cvxpy/__init__.py build/lib.macosx-10.7-x86_64-3.7/cvxpy/settings.py build/lib.macosx-10.7-x86_64-3.7/cvxpy/interface/base_matrix_interface.py build/lib.macosx-10.7-x86_64-3.7/cvxpy/interface/__init__.py build/lib.macosx-10.7-x86_64-3.7/cvxpy/interface/scipy_wrapper.py build/lib.macosx-10.7-x86_64-3.7/cvxpy/interface/matrix_utilities.py build/lib.macosx-10.7-x86_64-3.7/cvxpy/atoms/max.py build/lib.macosx-10.7-x86_64-3.7/cvxpy/atoms/cummax.py build/lib.macosx-10.7-x86_64-3.7/cvxpy/atoms/matrix_frac.py build/lib.macosx-10.7-x86_64-3.7/cvxpy/atoms/lambda_max.py build/lib.macosx-10.7-x86_64-3.7/cvxpy/atoms/sigma_max.py build/lib.macosx-10.7-x86_64-3.7/cvxpy/atoms/total_variation.py build/lib.macosx-10.7-x86_64-3.7/cvxpy/atoms/eye_minus_inv.py build/lib.macosx-10.7-x86_64-3.7/cvxpy/atoms/length.py build/lib.macosx-10.7-x86_64-3.7/cvxpy/atoms/sum_smallest.py build/lib.macosx-10.7-x86_64-3.7/cvxpy/atoms/norm1.py build/lib.macosx-10.7-x86_64-3.7/cvxpy/atoms/lambda_sum_smallest.py build/lib.macosx-10.7-x86_64-3.7/cvxpy/atoms/norm.py build/lib.macosx-10.7-x86_64-3.7/cvxpy/atoms/pf_eigenvalue.py build/lib.macosx-10.7-x86_64-3.7/cvxpy/atoms/pnorm.py build/lib.macosx-10.7-x86_64-3.7/cvxpy/atoms/__init__.py build/lib.macosx-10.7-x86_64-3.7/cvxpy/atoms/sum_largest.py build/lib.macosx-10.7-x86_64-3.7/cvxpy/atoms/lambda_sum_largest.py build/lib.macosx-10.7-x86_64-3.7/cvxpy/atoms/sum_squares.py build/lib.macosx-10.7-x86_64-3.7/cvxpy/atoms/log_sum_exp.py build/lib.macosx-10.7-x86_64-3.7/cvxpy/atoms/norm_nuc.py build/lib.macosx-10.7-x86_64-3.7/cvxpy/atoms/dist_ratio.py build/lib.macosx-10.7-x86_64-3.7/cvxpy/atoms/mixed_norm.py build/lib.macosx-10.7-x86_64-3.7/cvxpy/atoms/min.py build/lib.macosx-10.7-x86_64-3.7/cvxpy/atoms/quad_over_lin.py build/lib.macosx-10.7-x86_64-3.7/cvxpy/atoms/geo_mean.py build/lib.macosx-10.7-x86_64-3.7/cvxpy/atoms/axis_atom.py build/lib.macosx-10.7-x86_64-3.7/cvxpy/atoms/lambda_min.py build/lib.macosx-10.7-x86_64-3.7/cvxpy/atoms/norm_inf.py build/lib.macosx-10.7-x86_64-3.7/cvxpy/atoms/one_minus_pos.py build/lib.macosx-10.7-x86_64-3.7/cvxpy/atoms/quad_form.py build/lib.macosx-10.7-x86_64-3.7/cvxpy/atoms/prod.py build/lib.macosx-10.7-x86_64-3.7/cvxpy/atoms/log_det.py build/lib.macosx-10.7-x86_64-3.7/cvxpy/atoms/harmonic_mean.py build/lib.macosx-10.7-x86_64-3.7/cvxpy/atoms/gen_lambda_max.py build/lib.macosx-10.7-x86_64-3.7/cvxpy/atoms/sign.py build/lib.macosx-10.7-x86_64-3.7/cvxpy/atoms/atom.py build/lib.macosx-10.7-x86_64-3.7/cvxpy/constraints/constraint.py build/lib.macosx-10.7-x86_64-3.7/cvxpy/constraints/__init__.py build/lib.macosx-10.7-x86_64-3.7/cvxpy/constraints/second_order.py build/lib.macosx-10.7-x86_64-3.7/cvxpy/constraints/exponential.py build/lib.macosx-10.7-x86_64-3.7/cvxpy/constraints/zero.py build/lib.macosx-10.7-x86_64-3.7/cvxpy/constraints/nonpos.py build/lib.macosx-10.7-x86_64-3.7/cvxpy/constraints/soc_axis.py build/lib.macosx-10.7-x86_64-3.7/cvxpy/constraints/psd.py build/lib.macosx-10.7-x86_64-3.7/cvxpy/constraints/utilities.py build/lib.macosx-10.7-x86_64-3.7/cvxpy/tests/base_test.py build/lib.macosx-10.7-x86_64-3.7/cvxpy/tests/test_mip_vars.py build/lib.macosx-10.7-x86_64-3.7/cvxpy/tests/test_nonlinear_atoms.py build/lib.macosx-10.7-x86_64-3.7/cvxpy/tests/test_expressions.py build/lib.macosx-10.7-x86_64-3.7/cvxpy/tests/test_constant_atoms.py build/lib.macosx-10.7-x86_64-3.7/cvxpy/tests/test_semidefinite_vars.py build/lib.macosx-10.7-x86_64-3.7/cvxpy/tests/test_shape.py build/lib.macosx-10.7-x86_64-3.7/cvxpy/tests/test_lin_ops.py build/lib.macosx-10.7-x86_64-3.7/cvxpy/tests/test_benchmarks.py build/lib.macosx-10.7-x86_64-3.7/cvxpy/tests/test_atoms.py build/lib.macosx-10.7-x86_64-3.7/cvxpy/tests/test_solvers.py build/lib.macosx-10.7-x86_64-3.7/cvxpy/tests/test_super_scs.py build/lib.macosx-10.7-x86_64-3.7/cvxpy/tests/test_scs.py build/lib.macosx-10.7-x86_64-3.7/cvxpy/tests/test_objectives.py build/lib.macosx-10.7-x86_64-3.7/cvxpy/tests/test_dgp.py build/lib.macosx-10.7-x86_64-3.7/cvxpy/tests/test_convolution.py build/lib.macosx-10.7-x86_64-3.7/cvxpy/tests/__init__.py build/lib.macosx-10.7-x86_64-3.7/cvxpy/tests/test_dgp2dcp.py build/lib.macosx-10.7-x86_64-3.7/cvxpy/tests/test_qp.py build/lib.macosx-10.7-x86_64-3.7/cvxpy/tests/test_mosek_conif.py build/lib.macosx-10.7-x86_64-3.7/cvxpy/tests/test_matrices.py build/lib.macosx-10.7-x86_64-3.7/cvxpy/tests/test_cbc.py build/lib.macosx-10.7-x86_64-3.7/cvxpy/tests/test_non_optimal.py build/lib.macosx-10.7-x86_64-3.7/cvxpy/tests/test_quad_form.py build/lib.macosx-10.7-x86_64-3.7/cvxpy/tests/test_constraints.py build/lib.macosx-10.7-x86_64-3.7/cvxpy/tests/test_monotonicity.py build/lib.macosx-10.7-x86_64-3.7/cvxpy/tests/test_quadratic.py build/lib.macosx-10.7-x86_64-3.7/cvxpy/tests/test_domain.py build/lib.macosx-10.7-x86_64-3.7/cvxpy/tests/test_problem.py build/lib.macosx-10.7-x86_64-3.7/cvxpy/tests/test_dqcp.py build/lib.macosx-10.7-x86_64-3.7/cvxpy/tests/test_complex.py build/lib.macosx-10.7-x86_64-3.7/cvxpy/tests/test_linear_cone.py build/lib.macosx-10.7-x86_64-3.7/cvxpy/tests/test_interfaces.py build/lib.macosx-10.7-x86_64-3.7/cvxpy/tests/test_curvature.py build/lib.macosx-10.7-x86_64-3.7/cvxpy/tests/test_examples.py build/lib.macosx-10.7-x86_64-3.7/cvxpy/tests/test_sign.py build/lib.macosx-10.7-x86_64-3.7/cvxpy/tests/test_grad.py build/lib.macosx-10.7-x86_64-3.7/cvxpy/problems/objective.py build/lib.macosx-10.7-x86_64-3.7/cvxpy/problems/xpress_problem.py build/lib.macosx-10.7-x86_64-3.7/cvxpy/problems/__init__.py build/lib.macosx-10.7-x86_64-3.7/cvxpy/problems/problem.py build/lib.macosx-10.7-x86_64-3.7/cvxpy/problems/iterative.py build/lib.macosx-10.7-x86_64-3.7/cvxpy/lin_ops/__init__.py build/lib.macosx-10.7-x86_64-3.7/cvxpy/lin_ops/lin_op.py build/lib.macosx-10.7-x86_64-3.7/cvxpy/lin_ops/lin_constraints.py build/lib.macosx-10.7-x86_64-3.7/cvxpy/lin_ops/lin_utils.py build/lib.macosx-10.7-x86_64-3.7/cvxpy/lin_ops/tree_mat.py build/lib.macosx-10.7-x86_64-3.7/cvxpy/utilities/cvxpy_upgrade.py build/lib.macosx-10.7-x86_64-3.7/cvxpy/utilities/replace_quad_forms.py build/lib.macosx-10.7-x86_64-3.7/cvxpy/utilities/power_tools.py build/lib.macosx-10.7-x86_64-3.7/cvxpy/utilities/deterministic.py build/lib.macosx-10.7-x86_64-3.7/cvxpy/utilities/performance_utils.py build/lib.macosx-10.7-x86_64-3.7/cvxpy/utilities/__init__.py build/lib.macosx-10.7-x86_64-3.7/cvxpy/utilities/key_utils.py build/lib.macosx-10.7-x86_64-3.7/cvxpy/utilities/canonical.py build/lib.macosx-10.7-x86_64-3.7/cvxpy/utilities/shape.py build/lib.macosx-10.7-x86_64-3.7/cvxpy/utilities/sign.py build/lib.macosx-10.7-x86_64-3.7/cvxpy/utilities/grad.py build/lib.macosx-10.7-x86_64-3.7/cvxpy/utilities/coeff_extractor.py build/lib.macosx-10.7-x86_64-3.7/cvxpy/transforms/indicator.py build/lib.macosx-10.7-x86_64-3.7/cvxpy/transforms/__init__.py build/lib.macosx-10.7-x86_64-3.7/cvxpy/transforms/separable_problems.py build/lib.macosx-10.7-x86_64-3.7/cvxpy/transforms/partial_optimize.py build/lib.macosx-10.7-x86_64-3.7/cvxpy/transforms/linearize.py build/lib.macosx-10.7-x86_64-3.7/cvxpy/transforms/scalarize.py build/lib.macosx-10.7-x86_64-3.7/cvxpy/expressions/cvxtypes.py build/lib.macosx-10.7-x86_64-3.7/cvxpy/expressions/leaf.py build/lib.macosx-10.7-x86_64-3.7/cvxpy/expressions/__init__.py build/lib.macosx-10.7-x86_64-3.7/cvxpy/expressions/variable.py build/lib.macosx-10.7-x86_64-3.7/cvxpy/expressions/expression.py build/lib.macosx-10.7-x86_64-3.7/cvxpy/cvxcore/__init__.py build/lib.macosx-10.7-x86_64-3.7/cvxpy/reductions/cvx_attr2constr.py build/lib.macosx-10.7-x86_64-3.7/cvxpy/reductions/canonicalization.py build/lib.macosx-10.7-x86_64-3.7/cvxpy/reductions/reduction.py build/lib.macosx-10.7-x86_64-3.7/cvxpy/reductions/chain.py build/lib.macosx-10.7-x86_64-3.7/cvxpy/reductions/solution.py build/lib.macosx-10.7-x86_64-3.7/cvxpy/reductions/__init__.py build/lib.macosx-10.7-x86_64-3.7/cvxpy/reductions/inverse_data.py build/lib.macosx-10.7-x86_64-3.7/cvxpy/reductions/eval_params.py build/lib.macosx-10.7-x86_64-3.7/cvxpy/reductions/matrix_stuffing.py build/lib.macosx-10.7-x86_64-3.7/cvxpy/reductions/utilities.py build/lib.macosx-10.7-x86_64-3.7/cvxpy/reductions/flip_objective.py build/lib.macosx-10.7-x86_64-3.7/cvxpy/interface/numpy_interface/matrix_interface.py build/lib.macosx-10.7-x86_64-3.7/cvxpy/interface/numpy_interface/sparse_matrix_interface.py build/lib.macosx-10.7-x86_64-3.7/cvxpy/interface/numpy_interface/__init__.py build/lib.macosx-10.7-x86_64-3.7/cvxpy/interface/numpy_interface/ndarray_interface.py build/lib.macosx-10.7-x86_64-3.7/cvxpy/atoms/affine/vec.py build/lib.macosx-10.7-x86_64-3.7/cvxpy/atoms/affine/trace.py build/lib.macosx-10.7-x86_64-3.7/cvxpy/atoms/affine/unary_operators.py build/lib.macosx-10.7-x86_64-3.7/cvxpy/atoms/affine/vstack.py build/lib.macosx-10.7-x86_64-3.7/cvxpy/atoms/affine/affine_atom.py build/lib.macosx-10.7-x86_64-3.7/cvxpy/atoms/affine/index.py build/lib.macosx-10.7-x86_64-3.7/cvxpy/atoms/affine/upper_tri.py build/lib.macosx-10.7-x86_64-3.7/cvxpy/atoms/affine/binary_operators.py build/lib.macosx-10.7-x86_64-3.7/cvxpy/atoms/affine/hstack.py build/lib.macosx-10.7-x86_64-3.7/cvxpy/atoms/affine/reshape.py build/lib.macosx-10.7-x86_64-3.7/cvxpy/atoms/affine/bmat.py build/lib.macosx-10.7-x86_64-3.7/cvxpy/atoms/affine/__init__.py build/lib.macosx-10.7-x86_64-3.7/cvxpy/atoms/affine/promote.py build/lib.macosx-10.7-x86_64-3.7/cvxpy/atoms/affine/real.py build/lib.macosx-10.7-x86_64-3.7/cvxpy/atoms/affine/kron.py build/lib.macosx-10.7-x86_64-3.7/cvxpy/atoms/affine/imag.py build/lib.macosx-10.7-x86_64-3.7/cvxpy/atoms/affine/transpose.py build/lib.macosx-10.7-x86_64-3.7/cvxpy/atoms/affine/diag.py build/lib.macosx-10.7-x86_64-3.7/cvxpy/atoms/affine/add_expr.py build/lib.macosx-10.7-x86_64-3.7/cvxpy/atoms/affine/diff.py build/lib.macosx-10.7-x86_64-3.7/cvxpy/atoms/affine/sum.py build/lib.macosx-10.7-x86_64-3.7/cvxpy/atoms/affine/conv.py build/lib.macosx-10.7-x86_64-3.7/cvxpy/atoms/affine/cumsum.py build/lib.macosx-10.7-x86_64-3.7/cvxpy/atoms/affine/conj.py build/lib.macosx-10.7-x86_64-3.7/cvxpy/atoms/affine/wraps.py build/lib.macosx-10.7-x86_64-3.7/cvxpy/atoms/elementwise/kl_div.py build/lib.macosx-10.7-x86_64-3.7/cvxpy/atoms/elementwise/pos.py build/lib.macosx-10.7-x86_64-3.7/cvxpy/atoms/elementwise/neg.py build/lib.macosx-10.7-x86_64-3.7/cvxpy/atoms/elementwise/sqrt.py build/lib.macosx-10.7-x86_64-3.7/cvxpy/atoms/elementwise/entr.py build/lib.macosx-10.7-x86_64-3.7/cvxpy/atoms/elementwise/log.py build/lib.macosx-10.7-x86_64-3.7/cvxpy/atoms/elementwise/logistic.py build/lib.macosx-10.7-x86_64-3.7/cvxpy/atoms/elementwise/elementwise.py build/lib.macosx-10.7-x86_64-3.7/cvxpy/atoms/elementwise/abs.py build/lib.macosx-10.7-x86_64-3.7/cvxpy/atoms/elementwise/__init__.py build/lib.macosx-10.7-x86_64-3.7/cvxpy/atoms/elementwise/ceil.py build/lib.macosx-10.7-x86_64-3.7/cvxpy/atoms/elementwise/maximum.py build/lib.macosx-10.7-x86_64-3.7/cvxpy/atoms/elementwise/minimum.py build/lib.macosx-10.7-x86_64-3.7/cvxpy/atoms/elementwise/huber.py build/lib.macosx-10.7-x86_64-3.7/cvxpy/atoms/elementwise/scalene.py build/lib.macosx-10.7-x86_64-3.7/cvxpy/atoms/elementwise/square.py build/lib.macosx-10.7-x86_64-3.7/cvxpy/atoms/elementwise/inv_pos.py build/lib.macosx-10.7-x86_64-3.7/cvxpy/atoms/elementwise/exp.py build/lib.macosx-10.7-x86_64-3.7/cvxpy/atoms/elementwise/log1p.py build/lib.macosx-10.7-x86_64-3.7/cvxpy/atoms/elementwise/power.py build/lib.macosx-10.7-x86_64-3.7/cvxpy/expressions/constants/__init__.py build/lib.macosx-10.7-x86_64-3.7/cvxpy/expressions/constants/callback_param.py build/lib.macosx-10.7-x86_64-3.7/cvxpy/expressions/constants/constant.py build/lib.macosx-10.7-x86_64-3.7/cvxpy/expressions/constants/parameter.py build/lib.macosx-10.7-x86_64-3.7/cvxpy/cvxcore/python/canonInterface.py build/lib.macosx-10.7-x86_64-3.7/cvxpy/cvxcore/python/__init__.py build/lib.macosx-10.7-x86_64-3.7/cvxpy/cvxcore/python/cvxcore.py build/lib.macosx-10.7-x86_64-3.7/cvxpy/reductions/complex2real/complex2real.py build/lib.macosx-10.7-x86_64-3.7/cvxpy/reductions/complex2real/__init__.py build/lib.macosx-10.7-x86_64-3.7/cvxpy/reductions/qp2quad_form/qp_matrix_stuffing.py build/lib.macosx-10.7-x86_64-3.7/cvxpy/reductions/qp2quad_form/__init__.py build/lib.macosx-10.7-x86_64-3.7/cvxpy/reductions/qp2quad_form/qp2symbolic_qp.py build/lib.macosx-10.7-x86_64-3.7/cvxpy/reductions/dcp2cone/__init__.py build/lib.macosx-10.7-x86_64-3.7/cvxpy/reductions/dcp2cone/cone_matrix_stuffing.py build/lib.macosx-10.7-x86_64-3.7/cvxpy/reductions/dcp2cone/dcp2cone.py build/lib.macosx-10.7-x86_64-3.7/cvxpy/reductions/solvers/kktsolver.py build/lib.macosx-10.7-x86_64-3.7/cvxpy/reductions/solvers/solving_chain.py build/lib.macosx-10.7-x86_64-3.7/cvxpy/reductions/solvers/solver.py build/lib.macosx-10.7-x86_64-3.7/cvxpy/reductions/solvers/__init__.py build/lib.macosx-10.7-x86_64-3.7/cvxpy/reductions/solvers/compr_matrix.py build/lib.macosx-10.7-x86_64-3.7/cvxpy/reductions/solvers/defines.py build/lib.macosx-10.7-x86_64-3.7/cvxpy/reductions/solvers/constant_solver.py build/lib.macosx-10.7-x86_64-3.7/cvxpy/reductions/solvers/intermediate_chain.py build/lib.macosx-10.7-x86_64-3.7/cvxpy/reductions/solvers/utilities.py build/lib.macosx-10.7-x86_64-3.7/cvxpy/reductions/solvers/bisection.py build/lib.macosx-10.7-x86_64-3.7/cvxpy/reductions/dqcp2dcp/__init__.py build/lib.macosx-10.7-x86_64-3.7/cvxpy/reductions/dqcp2dcp/tighten.py build/lib.macosx-10.7-x86_64-3.7/cvxpy/reductions/dqcp2dcp/dqcp2dcp.py build/lib.macosx-10.7-x86_64-3.7/cvxpy/reductions/dqcp2dcp/sets.py build/lib.macosx-10.7-x86_64-3.7/cvxpy/reductions/dqcp2dcp/inverse.py build/lib.macosx-10.7-x86_64-3.7/cvxpy/reductions/dgp2dcp/dgp2dcp.py build/lib.macosx-10.7-x86_64-3.7/cvxpy/reductions/dgp2dcp/__init__.py build/lib.macosx-10.7-x86_64-3.7/cvxpy/reductions/eliminate_pwl/eliminate_pwl.py build/lib.macosx-10.7-x86_64-3.7/cvxpy/reductions/eliminate_pwl/__init__.py build/lib.macosx-10.7-x86_64-3.7/cvxpy/reductions/complex2real/atom_canonicalizers/constant_canon.py build/lib.macosx-10.7-x86_64-3.7/cvxpy/reductions/complex2real/atom_canonicalizers/param_canon.py build/lib.macosx-10.7-x86_64-3.7/cvxpy/reductions/complex2real/atom_canonicalizers/variable_canon.py build/lib.macosx-10.7-x86_64-3.7/cvxpy/reductions/complex2real/atom_canonicalizers/__init__.py build/lib.macosx-10.7-x86_64-3.7/cvxpy/reductions/complex2real/atom_canonicalizers/aff_canon.py build/lib.macosx-10.7-x86_64-3.7/cvxpy/reductions/complex2real/atom_canonicalizers/pnorm_canon.py build/lib.macosx-10.7-x86_64-3.7/cvxpy/reductions/complex2real/atom_canonicalizers/matrix_canon.py build/lib.macosx-10.7-x86_64-3.7/cvxpy/reductions/complex2real/atom_canonicalizers/zero_canon.py build/lib.macosx-10.7-x86_64-3.7/cvxpy/reductions/complex2real/atom_canonicalizers/abs_canon.py build/lib.macosx-10.7-x86_64-3.7/cvxpy/reductions/qp2quad_form/atom_canonicalizers/quad_form_canon.py build/lib.macosx-10.7-x86_64-3.7/cvxpy/reductions/qp2quad_form/atom_canonicalizers/quad_over_lin_canon.py build/lib.macosx-10.7-x86_64-3.7/cvxpy/reductions/qp2quad_form/atom_canonicalizers/power_canon.py build/lib.macosx-10.7-x86_64-3.7/cvxpy/reductions/qp2quad_form/atom_canonicalizers/__init__.py build/lib.macosx-10.7-x86_64-3.7/cvxpy/reductions/qp2quad_form/atom_canonicalizers/huber_canon.py build/lib.macosx-10.7-x86_64-3.7/cvxpy/reductions/dcp2cone/atom_canonicalizers/quad_form_canon.py build/lib.macosx-10.7-x86_64-3.7/cvxpy/reductions/dcp2cone/atom_canonicalizers/log1p_canon.py build/lib.macosx-10.7-x86_64-3.7/cvxpy/reductions/dcp2cone/atom_canonicalizers/log_det_canon.py build/lib.macosx-10.7-x86_64-3.7/cvxpy/reductions/dcp2cone/atom_canonicalizers/geo_mean_canon.py build/lib.macosx-10.7-x86_64-3.7/cvxpy/reductions/dcp2cone/atom_canonicalizers/exp_canon.py build/lib.macosx-10.7-x86_64-3.7/cvxpy/reductions/dcp2cone/atom_canonicalizers/quad_over_lin_canon.py build/lib.macosx-10.7-x86_64-3.7/cvxpy/reductions/dcp2cone/atom_canonicalizers/power_canon.py build/lib.macosx-10.7-x86_64-3.7/cvxpy/reductions/dcp2cone/atom_canonicalizers/log_sum_exp_canon.py build/lib.macosx-10.7-x86_64-3.7/cvxpy/reductions/dcp2cone/atom_canonicalizers/__init__.py build/lib.macosx-10.7-x86_64-3.7/cvxpy/reductions/dcp2cone/atom_canonicalizers/normNuc_canon.py build/lib.macosx-10.7-x86_64-3.7/cvxpy/reductions/dcp2cone/atom_canonicalizers/logistic_canon.py build/lib.macosx-10.7-x86_64-3.7/cvxpy/reductions/dcp2cone/atom_canonicalizers/matrix_frac_canon.py build/lib.macosx-10.7-x86_64-3.7/cvxpy/reductions/dcp2cone/atom_canonicalizers/sigma_max_canon.py build/lib.macosx-10.7-x86_64-3.7/cvxpy/reductions/dcp2cone/atom_canonicalizers/cumsum_canon.py build/lib.macosx-10.7-x86_64-3.7/cvxpy/reductions/dcp2cone/atom_canonicalizers/pnorm_canon.py build/lib.macosx-10.7-x86_64-3.7/cvxpy/reductions/dcp2cone/atom_canonicalizers/lambda_sum_largest_canon.py build/lib.macosx-10.7-x86_64-3.7/cvxpy/reductions/dcp2cone/atom_canonicalizers/lambda_max_canon.py build/lib.macosx-10.7-x86_64-3.7/cvxpy/reductions/dcp2cone/atom_canonicalizers/huber_canon.py build/lib.macosx-10.7-x86_64-3.7/cvxpy/reductions/dcp2cone/atom_canonicalizers/entr_canon.py build/lib.macosx-10.7-x86_64-3.7/cvxpy/reductions/dcp2cone/atom_canonicalizers/log_canon.py build/lib.macosx-10.7-x86_64-3.7/cvxpy/reductions/dcp2cone/atom_canonicalizers/indicator_canon.py build/lib.macosx-10.7-x86_64-3.7/cvxpy/reductions/dcp2cone/atom_canonicalizers/kl_div_canon.py build/lib.macosx-10.7-x86_64-3.7/cvxpy/reductions/solvers/conic_solvers/conic_solver.py build/lib.macosx-10.7-x86_64-3.7/cvxpy/reductions/solvers/conic_solvers/ecos_bb_conif.py build/lib.macosx-10.7-x86_64-3.7/cvxpy/reductions/solvers/conic_solvers/cbc_conif.py build/lib.macosx-10.7-x86_64-3.7/cvxpy/reductions/solvers/conic_solvers/ecos_conif.py build/lib.macosx-10.7-x86_64-3.7/cvxpy/reductions/solvers/conic_solvers/mosek_conif.py build/lib.macosx-10.7-x86_64-3.7/cvxpy/reductions/solvers/conic_solvers/scs_conif.py build/lib.macosx-10.7-x86_64-3.7/cvxpy/reductions/solvers/conic_solvers/super_scs_conif.py build/lib.macosx-10.7-x86_64-3.7/cvxpy/reductions/solvers/conic_solvers/__init__.py build/lib.macosx-10.7-x86_64-3.7/cvxpy/reductions/solvers/conic_solvers/xpress_conif.py build/lib.macosx-10.7-x86_64-3.7/cvxpy/reductions/solvers/conic_solvers/cplex_conif.py build/lib.macosx-10.7-x86_64-3.7/cvxpy/reductions/solvers/conic_solvers/cvxopt_conif.py build/lib.macosx-10.7-x86_64-3.7/cvxpy/reductions/solvers/conic_solvers/glpk_mi_conif.py build/lib.macosx-10.7-x86_64-3.7/cvxpy/reductions/solvers/conic_solvers/glpk_conif.py build/lib.macosx-10.7-x86_64-3.7/cvxpy/reductions/solvers/conic_solvers/gurobi_conif.py build/lib.macosx-10.7-x86_64-3.7/cvxpy/reductions/solvers/lp_solvers/__init__.py build/lib.macosx-10.7-x86_64-3.7/cvxpy/reductions/solvers/lp_solvers/cbc_lpif.py build/lib.macosx-10.7-x86_64-3.7/cvxpy/reductions/solvers/qp_solvers/osqp_qpif.py build/lib.macosx-10.7-x86_64-3.7/cvxpy/reductions/solvers/qp_solvers/qp_solver.py build/lib.macosx-10.7-x86_64-3.7/cvxpy/reductions/solvers/qp_solvers/cplex_qpif.py build/lib.macosx-10.7-x86_64-3.7/cvxpy/reductions/solvers/qp_solvers/__init__.py build/lib.macosx-10.7-x86_64-3.7/cvxpy/reductions/solvers/qp_solvers/gurobi_qpif.py build/lib.macosx-10.7-x86_64-3.7/cvxpy/reductions/dgp2dcp/atom_canonicalizers/quad_form_canon.py build/lib.macosx-10.7-x86_64-3.7/cvxpy/reductions/dgp2dcp/atom_canonicalizers/constant_canon.py build/lib.macosx-10.7-x86_64-3.7/cvxpy/reductions/dgp2dcp/atom_canonicalizers/parameter_canon.py build/lib.macosx-10.7-x86_64-3.7/cvxpy/reductions/dgp2dcp/atom_canonicalizers/eye_minus_inv_canon.py build/lib.macosx-10.7-x86_64-3.7/cvxpy/reductions/dgp2dcp/atom_canonicalizers/norm1_canon.py build/lib.macosx-10.7-x86_64-3.7/cvxpy/reductions/dgp2dcp/atom_canonicalizers/div_canon.py build/lib.macosx-10.7-x86_64-3.7/cvxpy/reductions/dgp2dcp/atom_canonicalizers/geo_mean_canon.py build/lib.macosx-10.7-x86_64-3.7/cvxpy/reductions/dgp2dcp/atom_canonicalizers/nonpos_constr_canon.py build/lib.macosx-10.7-x86_64-3.7/cvxpy/reductions/dgp2dcp/atom_canonicalizers/add_canon.py build/lib.macosx-10.7-x86_64-3.7/cvxpy/reductions/dgp2dcp/atom_canonicalizers/exp_canon.py build/lib.macosx-10.7-x86_64-3.7/cvxpy/reductions/dgp2dcp/atom_canonicalizers/quad_over_lin_canon.py build/lib.macosx-10.7-x86_64-3.7/cvxpy/reductions/dgp2dcp/atom_canonicalizers/power_canon.py build/lib.macosx-10.7-x86_64-3.7/cvxpy/reductions/dgp2dcp/atom_canonicalizers/pf_eigenvalue_canon.py build/lib.macosx-10.7-x86_64-3.7/cvxpy/reductions/dgp2dcp/atom_canonicalizers/__init__.py build/lib.macosx-10.7-x86_64-3.7/cvxpy/reductions/dgp2dcp/atom_canonicalizers/pnorm_canon.py build/lib.macosx-10.7-x86_64-3.7/cvxpy/reductions/dgp2dcp/atom_canonicalizers/zero_constr_canon.py build/lib.macosx-10.7-x86_64-3.7/cvxpy/reductions/dgp2dcp/atom_canonicalizers/norm_inf_canon.py build/lib.macosx-10.7-x86_64-3.7/cvxpy/reductions/dgp2dcp/atom_canonicalizers/trace_canon.py build/lib.macosx-10.7-x86_64-3.7/cvxpy/reductions/dgp2dcp/atom_canonicalizers/mulexpression_canon.py build/lib.macosx-10.7-x86_64-3.7/cvxpy/reductions/dgp2dcp/atom_canonicalizers/log_canon.py build/lib.macosx-10.7-x86_64-3.7/cvxpy/reductions/dgp2dcp/atom_canonicalizers/prod_canon.py build/lib.macosx-10.7-x86_64-3.7/cvxpy/reductions/dgp2dcp/atom_canonicalizers/one_minus_pos_canon.py build/lib.macosx-10.7-x86_64-3.7/cvxpy/reductions/dgp2dcp/atom_canonicalizers/sum_canon.py build/lib.macosx-10.7-x86_64-3.7/cvxpy/reductions/dgp2dcp/atom_canonicalizers/mul_canon.py build/lib.macosx-10.7-x86_64-3.7/cvxpy/reductions/eliminate_pwl/atom_canonicalizers/norm1_canon.py build/lib.macosx-10.7-x86_64-3.7/cvxpy/reductions/eliminate_pwl/atom_canonicalizers/__init__.py build/lib.macosx-10.7-x86_64-3.7/cvxpy/reductions/eliminate_pwl/atom_canonicalizers/max_canon.py build/lib.macosx-10.7-x86_64-3.7/cvxpy/reductions/eliminate_pwl/atom_canonicalizers/maximum_canon.py build/lib.macosx-10.7-x86_64-3.7/cvxpy/reductions/eliminate_pwl/atom_canonicalizers/minimum_canon.py build/lib.macosx-10.7-x86_64-3.7/cvxpy/reductions/eliminate_pwl/atom_canonicalizers/sum_largest_canon.py build/lib.macosx-10.7-x86_64-3.7/cvxpy/reductions/eliminate_pwl/atom_canonicalizers/norm_inf_canon.py build/lib.macosx-10.7-x86_64-3.7/cvxpy/reductions/eliminate_pwl/atom_canonicalizers/min_canon.py build/lib.macosx-10.7-x86_64-3.7/cvxpy/reductions/eliminate_pwl/atom_canonicalizers/abs_canon.py\n",
      "  Skipping optional fixer: buffer\n",
      "  Skipping optional fixer: idioms\n",
      "  Skipping optional fixer: set_literal\n",
      "  Skipping optional fixer: ws_comma\n",
      "  running build_ext\n",
      "  building '_cvxcore' extension\n",
      "  creating build/temp.macosx-10.7-x86_64-3.7\n",
      "  creating build/temp.macosx-10.7-x86_64-3.7/cvxpy\n",
      "  creating build/temp.macosx-10.7-x86_64-3.7/cvxpy/cvxcore\n",
      "  creating build/temp.macosx-10.7-x86_64-3.7/cvxpy/cvxcore/src\n",
      "  creating build/temp.macosx-10.7-x86_64-3.7/cvxpy/cvxcore/python\n",
      "  gcc -Wno-unused-result -Wsign-compare -Wunreachable-code -DNDEBUG -g -fwrapv -O3 -Wall -Wstrict-prototypes -I/anaconda3/include -arch x86_64 -I/anaconda3/include -arch x86_64 -Icvxpy/cvxcore/src/ -Icvxpy/cvxcore/python/ -Icvxpy/cvxcore/include/Eigen -I/anaconda3/include/python3.7m -I/anaconda3/lib/python3.7/site-packages/numpy/core/include -c cvxpy/cvxcore/src/cvxcore.cpp -o build/temp.macosx-10.7-x86_64-3.7/cvxpy/cvxcore/src/cvxcore.o\n",
      "  xcrun: error: invalid active developer path (/Library/Developer/CommandLineTools), missing xcrun at: /Library/Developer/CommandLineTools/usr/bin/xcrun\n",
      "  error: command 'gcc' failed with exit status 1\n",
      "  \n",
      "  ----------------------------------------\n",
      "\u001b[31m  Failed building wheel for cvxpy\u001b[0m\n",
      "\u001b[?25h  Running setup.py clean for cvxpy\n"
     ]
    },
    {
     "name": "stdout",
     "output_type": "stream",
     "text": [
      "  Building wheel for ecos (setup.py) ... \u001b[?25lerror\n",
      "  Complete output from command /anaconda3/bin/python -u -c \"import setuptools, tokenize;__file__='/private/var/folders/ld/7wh0qtq11w59j1kd0dq1kcwm0000gn/T/pip-install-lbqba_xz/ecos/setup.py';f=getattr(tokenize, 'open', open)(__file__);code=f.read().replace('\\r\\n', '\\n');f.close();exec(compile(code, __file__, 'exec'))\" bdist_wheel -d /private/var/folders/ld/7wh0qtq11w59j1kd0dq1kcwm0000gn/T/pip-wheel-3xvh2gr2 --python-tag cp37:\n",
      "  running bdist_wheel\n",
      "  running build\n",
      "  running build_py\n",
      "  creating build\n",
      "  creating build/lib.macosx-10.7-x86_64-3.7\n",
      "  creating build/lib.macosx-10.7-x86_64-3.7/ecos\n",
      "  copying src/ecos/version.py -> build/lib.macosx-10.7-x86_64-3.7/ecos\n",
      "  copying src/ecos/__init__.py -> build/lib.macosx-10.7-x86_64-3.7/ecos\n",
      "  copying src/ecos/ecos.py -> build/lib.macosx-10.7-x86_64-3.7/ecos\n",
      "  running build_ext\n",
      "  building '_ecos' extension\n",
      "  creating build/temp.macosx-10.7-x86_64-3.7\n",
      "  creating build/temp.macosx-10.7-x86_64-3.7/src\n",
      "  creating build/temp.macosx-10.7-x86_64-3.7/ecos\n",
      "  creating build/temp.macosx-10.7-x86_64-3.7/ecos/external\n",
      "  creating build/temp.macosx-10.7-x86_64-3.7/ecos/external/ldl\n",
      "  creating build/temp.macosx-10.7-x86_64-3.7/ecos/external/ldl/src\n",
      "  creating build/temp.macosx-10.7-x86_64-3.7/ecos/src\n",
      "  creating build/temp.macosx-10.7-x86_64-3.7/ecos/external/amd\n",
      "  creating build/temp.macosx-10.7-x86_64-3.7/ecos/external/amd/src\n",
      "  creating build/temp.macosx-10.7-x86_64-3.7/ecos/ecos_bb\n",
      "  gcc -Wno-unused-result -Wsign-compare -Wunreachable-code -DNDEBUG -g -fwrapv -O3 -Wall -Wstrict-prototypes -I/anaconda3/include -arch x86_64 -I/anaconda3/include -arch x86_64 -DPYTHON -DDLONG -DLDL_LONG -DCTRLC=1 -Iecos/include -Iecos/external/amd/include -Iecos/external/ldl/include -Iecos/external/SuiteSparse_config -I/anaconda3/include/python3.7m -I/anaconda3/lib/python3.7/site-packages/numpy/core/include -c src/ecosmodule.c -o build/temp.macosx-10.7-x86_64-3.7/src/ecosmodule.o\n",
      "  xcrun: error: invalid active developer path (/Library/Developer/CommandLineTools), missing xcrun at: /Library/Developer/CommandLineTools/usr/bin/xcrun\n",
      "  error: command 'gcc' failed with exit status 1\n",
      "  \n",
      "  ----------------------------------------\n",
      "\u001b[31m  Failed building wheel for ecos\u001b[0m\n",
      "\u001b[?25h  Running setup.py clean for ecos\n",
      "  Building wheel for scs (setup.py) ... \u001b[?25lerror\n",
      "  Complete output from command /anaconda3/bin/python -u -c \"import setuptools, tokenize;__file__='/private/var/folders/ld/7wh0qtq11w59j1kd0dq1kcwm0000gn/T/pip-install-lbqba_xz/scs/setup.py';f=getattr(tokenize, 'open', open)(__file__);code=f.read().replace('\\r\\n', '\\n');f.close();exec(compile(code, __file__, 'exec'))\" bdist_wheel -d /private/var/folders/ld/7wh0qtq11w59j1kd0dq1kcwm0000gn/T/pip-wheel-0sfr4kg8 --python-tag cp37:\n",
      "  Namespace(blas64=False, extraverbose=False, float32=False, gpu=False, int32=False, scs=False)\n",
      "  running bdist_wheel\n",
      "  running build\n",
      "  running build_py\n",
      "  creating build\n",
      "  creating build/lib.macosx-10.7-x86_64-3.7\n",
      "  creating build/lib.macosx-10.7-x86_64-3.7/scs\n",
      "  copying src/__init__.py -> build/lib.macosx-10.7-x86_64-3.7/scs\n",
      "  running build_ext\n",
      "  mkl_info:\n",
      "      libraries = ['mkl_rt', 'pthread']\n",
      "      library_dirs = ['/anaconda3/lib']\n",
      "      define_macros = [('SCIPY_MKL_H', None), ('HAVE_CBLAS', None)]\n",
      "      include_dirs = ['/anaconda3/include']\n",
      "  blas_mkl_info:\n",
      "      libraries = ['mkl_rt', 'pthread']\n",
      "      library_dirs = ['/anaconda3/lib']\n",
      "      define_macros = [('SCIPY_MKL_H', None), ('HAVE_CBLAS', None)]\n",
      "      include_dirs = ['/anaconda3/include']\n",
      "  blas_opt_info:\n",
      "      libraries = ['mkl_rt', 'pthread']\n",
      "      library_dirs = ['/anaconda3/lib']\n",
      "      define_macros = [('SCIPY_MKL_H', None), ('HAVE_CBLAS', None)]\n",
      "      include_dirs = ['/anaconda3/include']\n",
      "  lapack_mkl_info:\n",
      "      libraries = ['mkl_rt', 'pthread']\n",
      "      library_dirs = ['/anaconda3/lib']\n",
      "      define_macros = [('SCIPY_MKL_H', None), ('HAVE_CBLAS', None)]\n",
      "      include_dirs = ['/anaconda3/include']\n",
      "  lapack_opt_info:\n",
      "      libraries = ['mkl_rt', 'pthread']\n",
      "      library_dirs = ['/anaconda3/lib']\n",
      "      define_macros = [('SCIPY_MKL_H', None), ('HAVE_CBLAS', None)]\n",
      "      include_dirs = ['/anaconda3/include']\n",
      "  {'libraries': ['mkl_rt', 'pthread'], 'library_dirs': ['/anaconda3/lib'], 'define_macros': [('SCIPY_MKL_H', None), ('HAVE_CBLAS', None)], 'include_dirs': ['/anaconda3/include']}\n",
      "  {'libraries': ['mkl_rt', 'pthread'], 'library_dirs': ['/anaconda3/lib'], 'define_macros': [('SCIPY_MKL_H', None), ('HAVE_CBLAS', None)], 'include_dirs': ['/anaconda3/include']}\n",
      "  xcrun: error: invalid active developer path (/Library/Developer/CommandLineTools), missing xcrun at: /Library/Developer/CommandLineTools/usr/bin/xcrun\n",
      "  xcrun: error: invalid active developer path (/Library/Developer/CommandLineTools), missing xcrun at: /Library/Developer/CommandLineTools/usr/bin/xcrun\n",
      "  xcrun: error: invalid active developer path (/Library/Developer/CommandLineTools), missing xcrun at: /Library/Developer/CommandLineTools/usr/bin/xcrun\n",
      "  xcrun: error: invalid active developer path (/Library/Developer/CommandLineTools), missing xcrun at: /Library/Developer/CommandLineTools/usr/bin/xcrun\n",
      "  xcrun: error: invalid active developer path (/Library/Developer/CommandLineTools), missing xcrun at: /Library/Developer/CommandLineTools/usr/bin/xcrun\n",
      "  xcrun: error: invalid active developer path (/Library/Developer/CommandLineTools), missing xcrun at: /Library/Developer/CommandLineTools/usr/bin/xcrun\n",
      "  xcrun: error: invalid active developer path (/Library/Developer/CommandLineTools), missing xcrun at: /Library/Developer/CommandLineTools/usr/bin/xcrun\n",
      "  xcrun: error: invalid active developer path (/Library/Developer/CommandLineTools), missing xcrun at: /Library/Developer/CommandLineTools/usr/bin/xcrun\n",
      "  xcrun: error: invalid active developer path (/Library/Developer/CommandLineTools), missing xcrun at: /Library/Developer/CommandLineTools/usr/bin/xcrun\n",
      "  xcrun: error: invalid active developer path (/Library/Developer/CommandLineTools), missing xcrun at: /Library/Developer/CommandLineTools/usr/bin/xcrun\n",
      "  xcrun: error: invalid active developer path (/Library/Developer/CommandLineTools), missing xcrun at: /Library/Developer/CommandLineTools/usr/bin/xcrun\n",
      "  xcrun: error: invalid active developer path (/Library/Developer/CommandLineTools), missing xcrun at: /Library/Developer/CommandLineTools/usr/bin/xcrun\n",
      "  xcrun: error: invalid active developer path (/Library/Developer/CommandLineTools), missing xcrun at: /Library/Developer/CommandLineTools/usr/bin/xcrun\n",
      "  xcrun: error: invalid active developer path (/Library/Developer/CommandLineTools), missing xcrun at: /Library/Developer/CommandLineTools/usr/bin/xcrun\n",
      "  error: Command \"gcc -Wno-unused-result -Wsign-compare -Wunreachable-code -DNDEBUG -g -fwrapv -O3 -Wall -Wstrict-prototypes -I/anaconda3/include -arch x86_64 -I/anaconda3/include -arch x86_64 -DPYTHON -DCTRLC=1 -DCOPYAMATRIX -DDLONG=1 -DUSE_LAPACK -DSCIPY_MKL_H -DHAVE_CBLAS -DSCIPY_MKL_H -DHAVE_CBLAS -Iscs/include -Iscs/linsys -Iscs/linsys/direct/ -Iscs/linsys/direct/external/ -I/anaconda3/lib/python3.7/site-packages/numpy/core/include -I/anaconda3/include -I/anaconda3/include -I/anaconda3/include/python3.7m -c src/scsmodule.c -o build/temp.macosx-10.7-x86_64-3.7/src/scsmodule.o -O3\" failed with exit status 1\n",
      "  \n",
      "  ----------------------------------------\n",
      "\u001b[31m  Failed building wheel for scs\u001b[0m\n",
      "\u001b[?25h  Running setup.py clean for scs\n",
      "Failed to build cvxpy ecos scs\n",
      "Installing collected packages: ecos, scs, dill, multiprocess, cvxpy\n",
      "  Running setup.py install for ecos ... \u001b[?25lerror\n",
      "    Complete output from command /anaconda3/bin/python -u -c \"import setuptools, tokenize;__file__='/private/var/folders/ld/7wh0qtq11w59j1kd0dq1kcwm0000gn/T/pip-install-lbqba_xz/ecos/setup.py';f=getattr(tokenize, 'open', open)(__file__);code=f.read().replace('\\r\\n', '\\n');f.close();exec(compile(code, __file__, 'exec'))\" install --record /private/var/folders/ld/7wh0qtq11w59j1kd0dq1kcwm0000gn/T/pip-record-xutfwvv1/install-record.txt --single-version-externally-managed --compile:\n",
      "    running install\n",
      "    running build\n",
      "    running build_py\n",
      "    creating build\n",
      "    creating build/lib.macosx-10.7-x86_64-3.7\n",
      "    creating build/lib.macosx-10.7-x86_64-3.7/ecos\n",
      "    copying src/ecos/version.py -> build/lib.macosx-10.7-x86_64-3.7/ecos\n",
      "    copying src/ecos/__init__.py -> build/lib.macosx-10.7-x86_64-3.7/ecos\n",
      "    copying src/ecos/ecos.py -> build/lib.macosx-10.7-x86_64-3.7/ecos\n",
      "    running build_ext\n",
      "    building '_ecos' extension\n",
      "    creating build/temp.macosx-10.7-x86_64-3.7\n",
      "    creating build/temp.macosx-10.7-x86_64-3.7/src\n",
      "    creating build/temp.macosx-10.7-x86_64-3.7/ecos\n",
      "    creating build/temp.macosx-10.7-x86_64-3.7/ecos/external\n",
      "    creating build/temp.macosx-10.7-x86_64-3.7/ecos/external/ldl\n",
      "    creating build/temp.macosx-10.7-x86_64-3.7/ecos/external/ldl/src\n",
      "    creating build/temp.macosx-10.7-x86_64-3.7/ecos/src\n",
      "    creating build/temp.macosx-10.7-x86_64-3.7/ecos/external/amd\n",
      "    creating build/temp.macosx-10.7-x86_64-3.7/ecos/external/amd/src\n",
      "    creating build/temp.macosx-10.7-x86_64-3.7/ecos/ecos_bb\n",
      "    gcc -Wno-unused-result -Wsign-compare -Wunreachable-code -DNDEBUG -g -fwrapv -O3 -Wall -Wstrict-prototypes -I/anaconda3/include -arch x86_64 -I/anaconda3/include -arch x86_64 -DPYTHON -DDLONG -DLDL_LONG -DCTRLC=1 -Iecos/include -Iecos/external/amd/include -Iecos/external/ldl/include -Iecos/external/SuiteSparse_config -I/anaconda3/include/python3.7m -I/anaconda3/lib/python3.7/site-packages/numpy/core/include -c src/ecosmodule.c -o build/temp.macosx-10.7-x86_64-3.7/src/ecosmodule.o\n",
      "    xcrun: error: invalid active developer path (/Library/Developer/CommandLineTools), missing xcrun at: /Library/Developer/CommandLineTools/usr/bin/xcrun\n",
      "    error: command 'gcc' failed with exit status 1\n",
      "    \n",
      "    ----------------------------------------\n"
     ]
    },
    {
     "name": "stdout",
     "output_type": "stream",
     "text": [
      "\u001b[31mCommand \"/anaconda3/bin/python -u -c \"import setuptools, tokenize;__file__='/private/var/folders/ld/7wh0qtq11w59j1kd0dq1kcwm0000gn/T/pip-install-lbqba_xz/ecos/setup.py';f=getattr(tokenize, 'open', open)(__file__);code=f.read().replace('\\r\\n', '\\n');f.close();exec(compile(code, __file__, 'exec'))\" install --record /private/var/folders/ld/7wh0qtq11w59j1kd0dq1kcwm0000gn/T/pip-record-xutfwvv1/install-record.txt --single-version-externally-managed --compile\" failed with error code 1 in /private/var/folders/ld/7wh0qtq11w59j1kd0dq1kcwm0000gn/T/pip-install-lbqba_xz/ecos/\u001b[0m\n",
      "\u001b[?25hNote: you may need to restart the kernel to use updated packages.\n"
     ]
    }
   ],
   "source": [
    "pip install cvxpy"
   ]
  },
  {
   "cell_type": "markdown",
   "metadata": {},
   "source": [
    "Recall that we're trying to solve this problem:\n",
    "\n",
    "$ w x^{(i)} + b \\geq 1$  if $y ^{(i)} = 1$\n",
    "\n",
    "$ w x^{(i)} + b \\leq -1$  if $y ^{(i)} = -1$\n",
    "\n",
    "And as an objective function we're maximizing $\\dfrac{2}{\\lVert w \\rVert}$. To make things easier, we'll minimizing $\\lVert w \\rVert$"
   ]
  },
  {
   "cell_type": "markdown",
   "metadata": {},
   "source": [
    "Note that $y^{(i)}$ is the class label here. Looking at our data the labels are stored in `labels`. Let's have a look at the labels by printing them below."
   ]
  },
  {
   "cell_type": "code",
   "execution_count": 3,
   "metadata": {},
   "outputs": [
    {
     "data": {
      "text/plain": [
       "array([0, 0, 0, 1, 0, 1, 0, 0, 1, 0, 1, 1, 0, 0, 1, 0, 0, 1, 1, 0, 0, 1,\n",
       "       1, 0, 1, 0, 1, 0, 0, 0, 0, 0, 0, 1, 0, 0, 0, 1, 1, 0, 1, 0, 1, 1,\n",
       "       1, 1, 0, 0, 1, 0, 0, 0, 1, 1, 1, 0, 0, 1, 1, 1, 0, 0, 1, 1, 1, 1,\n",
       "       0, 1, 0, 1, 1, 0, 0, 1, 0, 1, 0, 1, 0, 1, 1, 0, 1, 1, 0, 0, 1, 1,\n",
       "       1, 0, 1, 1, 0, 0, 1, 1, 0, 1, 1, 0])"
      ]
     },
     "execution_count": 3,
     "metadata": {},
     "output_type": "execute_result"
    }
   ],
   "source": [
    "# your code here\n",
    "labels"
   ]
  },
  {
   "cell_type": "markdown",
   "metadata": {},
   "source": [
    "Before we start to write down the optimization problem, let's split our data in the two classes. Name them `class_1` and `class_2`."
   ]
  },
  {
   "cell_type": "code",
   "execution_count": 4,
   "metadata": {},
   "outputs": [],
   "source": [
    "# your code here\n",
    "class_1 = X[labels==0]\n",
    "class_2 = X[labels==1]"
   ]
  },
  {
   "cell_type": "markdown",
   "metadata": {},
   "source": [
    "Let's find a wat to create a hyperplane (in this case, a line) that can maximize the difference between the two classes. \n",
    "- First, `import cvxpy as cp`\n",
    "- Next, define the variables. note that b and w are variables (what are the dimensions?)\n",
    "- Then, build the constraints. We have two constraints here\n",
    "- After that, use \"+\" to group the constraints togethes\n",
    "- The next step is to define the objective function\n",
    "- After that, define the problem using `cp.Problem`\n",
    "- Solve the problem using `.solve`\n",
    "- After that, print the problem status (however you defined the problem, and attach `.status`."
   ]
  },
  {
   "cell_type": "code",
   "execution_count": 5,
   "metadata": {},
   "outputs": [
    {
     "ename": "ModuleNotFoundError",
     "evalue": "No module named 'cvxpy'",
     "output_type": "error",
     "traceback": [
      "\u001b[0;31m---------------------------------------------------------------------------\u001b[0m",
      "\u001b[0;31mModuleNotFoundError\u001b[0m                       Traceback (most recent call last)",
      "\u001b[0;32m<ipython-input-5-66339ea35c28>\u001b[0m in \u001b[0;36m<module>\u001b[0;34m\u001b[0m\n\u001b[1;32m      1\u001b[0m \u001b[0;34m\u001b[0m\u001b[0m\n\u001b[0;32m----> 2\u001b[0;31m \u001b[0;32mimport\u001b[0m \u001b[0mcvxpy\u001b[0m \u001b[0;32mas\u001b[0m \u001b[0mcp\u001b[0m\u001b[0;34m\u001b[0m\u001b[0;34m\u001b[0m\u001b[0m\n\u001b[0m\u001b[1;32m      3\u001b[0m \u001b[0;34m\u001b[0m\u001b[0m\n\u001b[1;32m      4\u001b[0m \u001b[0md\u001b[0m \u001b[0;34m=\u001b[0m \u001b[0;36m2\u001b[0m\u001b[0;34m\u001b[0m\u001b[0;34m\u001b[0m\u001b[0m\n\u001b[1;32m      5\u001b[0m \u001b[0mm\u001b[0m \u001b[0;34m=\u001b[0m \u001b[0;36m50\u001b[0m\u001b[0;34m\u001b[0m\u001b[0;34m\u001b[0m\u001b[0m\n",
      "\u001b[0;31mModuleNotFoundError\u001b[0m: No module named 'cvxpy'"
     ]
    }
   ],
   "source": [
    "import cvxpy as cp\n",
    "\n",
    "d = 2  \n",
    "m = 50 \n",
    "n = 50  \n",
    "\n",
    "# Define the variables\n",
    "w = cp.Variable(d)\n",
    "b = cp.Variable()\n",
    "\n",
    "# Define the constraints\n",
    "x_constraints = [w.T * class_1[i] + b >= 1  for i in range(m)]\n",
    "y_constraints = [w.T * class_2[i] + b <= -1 for i in range(n)]\n",
    "\n",
    "# Sum the constraints\n",
    "constraints = x_constraints +  y_constraints \n",
    "\n",
    "# Define the objective. Hint: use cp.norm\n",
    "obj = cp.Minimize(cp.norm(w,2))\n",
    "\n",
    "# Add objective and constraint in the problem\n",
    "prob = cp.Problem(obj, constraints)\n",
    "\n",
    "# Solve the problem\n",
    "prob.solve()\n",
    "print(\"Problem Status: %s\"%prob.status)"
   ]
  },
  {
   "cell_type": "markdown",
   "metadata": {},
   "source": [
    "Below, we provide you with a helper function to plot your result."
   ]
  },
  {
   "cell_type": "code",
   "execution_count": 6,
   "metadata": {},
   "outputs": [],
   "source": [
    "## Define a helper function for plotting the results, the decision plane, and the supporting planes\n",
    "\n",
    "def plotBoundaries(x, y, w, b):\n",
    "    # Takes in a set of datapoints x and y for two clusters,\n",
    "    d1_min = np.min([x[:,0],y[:,0]])\n",
    "    d1_max = np.max([x[:,0],y[:,0]])\n",
    "    # Line form: (-a[0] * x - b ) / a[1]\n",
    "    d2_at_mind1 = (-w[0]*d1_min - b ) / w[1]\n",
    "    d2_at_maxd1 = (-w[0]*d1_max - b ) / w[1]\n",
    "    sup_up_at_mind1 = (-w[0]*d1_min - b + 1 ) / w[1]\n",
    "    sup_up_at_maxd1 = (-w[0]*d1_max - b + 1 ) / w[1]\n",
    "    sup_dn_at_mind1 = (-w[0]*d1_min - b - 1 ) / w[1]\n",
    "    sup_dn_at_maxd1 = (-w[0]*d1_max - b - 1 ) / w[1]\n",
    "\n",
    "    # Plot the clusters!\n",
    "    plt.scatter(x[:,0],x[:,1],color='purple')\n",
    "    plt.scatter(y[:,0],y[:,1],color='yellow')\n",
    "    plt.plot([d1_min,d1_max],[d2_at_mind1 ,d2_at_maxd1],color='black')\n",
    "    plt.plot([d1_min,d1_max],[sup_up_at_mind1,sup_up_at_maxd1],'-.',color='blue')\n",
    "    plt.plot([d1_min,d1_max],[sup_dn_at_mind1,sup_dn_at_maxd1],'-.',color='blue')\n",
    "    plt.ylim([np.floor(np.min([x[:,1],y[:,1]])),np.ceil(np.max([x[:,1],y[:,1]]))])"
   ]
  },
  {
   "cell_type": "markdown",
   "metadata": {},
   "source": [
    "Now use the helper function to plot your result. To get the values of `w` and `b`. use the two variables with `.value`. The two first arguments should be the two classes, `class_1` and `class_2`."
   ]
  },
  {
   "cell_type": "code",
   "execution_count": 7,
   "metadata": {},
   "outputs": [
    {
     "ename": "NameError",
     "evalue": "name 'w' is not defined",
     "output_type": "error",
     "traceback": [
      "\u001b[0;31m---------------------------------------------------------------------------\u001b[0m",
      "\u001b[0;31mNameError\u001b[0m                                 Traceback (most recent call last)",
      "\u001b[0;32m<ipython-input-7-e59a753bea4b>\u001b[0m in \u001b[0;36m<module>\u001b[0;34m\u001b[0m\n\u001b[0;32m----> 1\u001b[0;31m \u001b[0mw\u001b[0m\u001b[0;34m=\u001b[0m\u001b[0mw\u001b[0m\u001b[0;34m.\u001b[0m\u001b[0mvalue\u001b[0m\u001b[0;34m\u001b[0m\u001b[0;34m\u001b[0m\u001b[0m\n\u001b[0m\u001b[1;32m      2\u001b[0m \u001b[0mb\u001b[0m\u001b[0;34m=\u001b[0m\u001b[0mb\u001b[0m\u001b[0;34m.\u001b[0m\u001b[0mvalue\u001b[0m\u001b[0;34m\u001b[0m\u001b[0;34m\u001b[0m\u001b[0m\n",
      "\u001b[0;31mNameError\u001b[0m: name 'w' is not defined"
     ]
    }
   ],
   "source": [
    "w=w.value\n",
    "b=b.value"
   ]
  },
  {
   "cell_type": "code",
   "execution_count": 8,
   "metadata": {},
   "outputs": [
    {
     "ename": "NameError",
     "evalue": "name 'w' is not defined",
     "output_type": "error",
     "traceback": [
      "\u001b[0;31m---------------------------------------------------------------------------\u001b[0m",
      "\u001b[0;31mNameError\u001b[0m                                 Traceback (most recent call last)",
      "\u001b[0;32m<ipython-input-8-4235b9b4e384>\u001b[0m in \u001b[0;36m<module>\u001b[0;34m\u001b[0m\n\u001b[0;32m----> 1\u001b[0;31m \u001b[0mplotBoundaries\u001b[0m\u001b[0;34m(\u001b[0m\u001b[0mclass_1\u001b[0m\u001b[0;34m,\u001b[0m\u001b[0mclass_2\u001b[0m\u001b[0;34m,\u001b[0m\u001b[0mw\u001b[0m\u001b[0;34m,\u001b[0m\u001b[0mb\u001b[0m\u001b[0;34m)\u001b[0m\u001b[0;34m\u001b[0m\u001b[0;34m\u001b[0m\u001b[0m\n\u001b[0m",
      "\u001b[0;31mNameError\u001b[0m: name 'w' is not defined"
     ]
    }
   ],
   "source": [
    "plotBoundaries(class_1,class_2,w,b)\n"
   ]
  },
  {
   "cell_type": "markdown",
   "metadata": {},
   "source": [
    "## A more complex problem"
   ]
  },
  {
   "cell_type": "markdown",
   "metadata": {},
   "source": [
    "Let's look at another problem by running the code below. It's clear that now, the two classes are not perfectly linearly separable."
   ]
  },
  {
   "cell_type": "code",
   "execution_count": null,
   "metadata": {},
   "outputs": [],
   "source": [
    "from sklearn.datasets import make_blobs\n",
    "import matplotlib.pyplot as plt\n",
    "%matplotlib inline  \n",
    "import numpy as np\n",
    "\n",
    "plt.figure(figsize=(5, 5))\n",
    "\n",
    "plt.title(\"Two blobs\")\n",
    "X, labels = make_blobs(n_features = 2, centers = 2, cluster_std=3,  random_state = 123)\n",
    "plt.scatter(X[:, 0], X[:, 1], c = labels, s=25);"
   ]
  },
  {
   "cell_type": "markdown",
   "metadata": {},
   "source": [
    "Copy your optimization code from the Max Margin Classifier and look at the problem status. What do you see?"
   ]
  },
  {
   "cell_type": "code",
   "execution_count": null,
   "metadata": {},
   "outputs": [],
   "source": [
    "from sklearn.datasets import make_blobs\n",
    "import matplotlib.pyplot as plt\n",
    "%matplotlib inline  \n",
    "import numpy as np\n",
    "\n",
    "plt.figure(figsize=(5, 5))\n",
    "\n",
    "plt.title(\"Two blobs\")\n",
    "X, labels = make_blobs(n_features = 2, centers = 2, cluster_std=3,  random_state = 123)\n",
    "plt.scatter(X[:, 0], X[:, 1], c = labels, s=25);"
   ]
  },
  {
   "cell_type": "code",
   "execution_count": null,
   "metadata": {},
   "outputs": [],
   "source": [
    "class_1 = X[labels==0]\n",
    "class_2 = X[labels==1]"
   ]
  },
  {
   "cell_type": "code",
   "execution_count": null,
   "metadata": {},
   "outputs": [],
   "source": [
    "import cvxpy as cp\n",
    "\n",
    "d = 2  \n",
    "m = 50 \n",
    "n = 50  \n",
    "\n",
    "# Define the variables\n",
    "w = cp.Variable(d)\n",
    "b = cp.Variable()\n",
    "\n",
    "# Define the constraints\n",
    "x_constraints = [w.T * class_1[i] + b >= 1  for i in range(m)]\n",
    "y_constraints = [w.T * class_2[i] + b <= -1 for i in range(n)]\n",
    "\n",
    "# Sum the constraints\n",
    "constraints = x_constraints +  y_constraints \n",
    "\n",
    "# Define the objective. Hint: use cp.norm\n",
    "obj = cp.Minimize(cp.norm(w,2))\n",
    "\n",
    "# Add objective and constraint in the problem\n",
    "prob = cp.Problem(obj, constraints)\n",
    "\n",
    "# Solve the problem\n",
    "prob.solve()\n",
    "print(\"Problem Status: %s\"%prob.status)"
   ]
  },
  {
   "cell_type": "markdown",
   "metadata": {},
   "source": [
    "### Explain what's happening"
   ]
  },
  {
   "cell_type": "markdown",
   "metadata": {},
   "source": [
    "The problem status is \"infeasible\": the problem is not linearly separable, in other words, we cannot draw one straight line that separates the two classes."
   ]
  },
  {
   "cell_type": "markdown",
   "metadata": {},
   "source": [
    "## Building a Soft Margin Classifier\n",
    "\n",
    "To solve this problem, you'll need to \"relax\" your constraints and allow for items that are not correctly classified. This is where the Soft Margin Classifier comes in! As a refresher, this is the formulation for the Soft Margin Classifier:\n",
    "\n",
    "$$ b + w_Tx^{(i)} \\geq 1-\\xi^{(i)}  \\text{     if     } y ^{(i)} = 1$$\n",
    "\n",
    "$$ b + w_Tx^{(i)} \\leq -1+\\xi^{(i)}  \\text{     if     } y ^{(i)} = -1$$\n",
    "\n",
    "\n",
    "The objective function is \n",
    "\n",
    " $$\\dfrac{1}{2}\\lVert w \\rVert^2+ C(\\sum_i \\xi^{(i)})$$\n",
    " \n",
    " We created the new data set again below. Let's use the code for the SVM optimization again, but adjust for the slack parameters $\\xi$ (ksi or xi).\n",
    " \n",
    "Some important things to note:\n",
    "- Every $\\xi$ needs to be positive, that should be added as constraints\n",
    "- Your objective needs to be changed as well\n",
    "- Allow for a \"hyperparameter\" C which you set to 1 at first and you can change accordingly. Describe how your result changes.\n"
   ]
  },
  {
   "cell_type": "code",
   "execution_count": null,
   "metadata": {},
   "outputs": [],
   "source": [
    "from sklearn.datasets import make_blobs\n",
    "import matplotlib.pyplot as plt\n",
    "%matplotlib inline  \n",
    "import numpy as np\n",
    "\n",
    "plt.figure(figsize=(5, 5))\n",
    "\n",
    "plt.title(\"Two blobs\")\n",
    "X, labels = make_blobs(n_features = 2, centers = 2, cluster_std=3,  random_state = 123)\n",
    "plt.scatter(X[:, 0], X[:, 1], c = labels, s=25);"
   ]
  },
  {
   "cell_type": "code",
   "execution_count": null,
   "metadata": {},
   "outputs": [],
   "source": [
    "#reassign the class labels\n",
    "class_1 = X[labels==0]\n",
    "class_2 = X[labels==1]"
   ]
  },
  {
   "cell_type": "code",
   "execution_count": null,
   "metadata": {},
   "outputs": [],
   "source": [
    "import cvxpy as cp\n",
    "\n",
    "d = 2  \n",
    "m = 50 \n",
    "n = 50  \n",
    "\n",
    "# Define the variables\n",
    "w = cp.Variable(d)\n",
    "b = cp.Variable()\n",
    "ksi_1 = cp.Variable(m)\n",
    "ksi_2 = cp.Variable(n)\n",
    "\n",
    "C=0.01\n",
    "\n",
    "# Define the constraints\n",
    "x_constraints = [w.T * class_1[i] + b >= 1 - ksi_1[i]  for i in range(m)]\n",
    "y_constraints = [w.T * class_2[i] + b <= -1 + ksi_2[i] for i in range(n)]\n",
    "ksi_1_constraints = [ksi_1 >= 0  for i in range(m)]\n",
    "ksi_2_constraints = [ksi_2 >= 0  for i in range(n)]\n",
    "\n",
    "# Sum the constraints\n",
    "constraints = x_constraints +  y_constraints + ksi_1_constraints + ksi_2_constraints\n",
    "\n",
    "# Define the objective. Hint: use cp.norm. Add in a C hyperparameter and assume 1 at first\n",
    "obj = cp.Minimize(cp.norm(w,2)+ C * (sum(ksi_1)+ sum(ksi_2)))\n",
    "\n",
    "# Add objective and constraint in the problem\n",
    "prob = cp.Problem(obj, constraints)\n",
    "\n",
    "# Solve the problem\n",
    "prob.solve()\n",
    "print(\"Problem Status: %s\"%prob.status)"
   ]
  },
  {
   "cell_type": "markdown",
   "metadata": {},
   "source": [
    "Plot your result again"
   ]
  },
  {
   "cell_type": "code",
   "execution_count": null,
   "metadata": {},
   "outputs": [],
   "source": [
    "# your code here\n",
    "w=w.value\n",
    "b=b.value\n",
    "plotBoundaries(class_1,class_2,w,b)"
   ]
  },
  {
   "cell_type": "markdown",
   "metadata": {},
   "source": [
    "Now go ahead and experiment with the hyperparameter C (making it both larger and smaller than 1). What do you see?"
   ]
  },
  {
   "cell_type": "markdown",
   "metadata": {},
   "source": [
    "## Summary"
   ]
  },
  {
   "cell_type": "markdown",
   "metadata": {},
   "source": [
    "Great! You now understand the rationale behind support vector machines. Wouldn't it be great to have a library that did this for you? Well, you're lucky: scikit-learn has an SVM-module which automizes all of this. In the next lab, you'll learn how to use this scikit-learn module!"
   ]
  }
 ],
 "metadata": {
  "kernelspec": {
   "display_name": "Python 3",
   "language": "python",
   "name": "python3"
  },
  "language_info": {
   "codemirror_mode": {
    "name": "ipython",
    "version": 3
   },
   "file_extension": ".py",
   "mimetype": "text/x-python",
   "name": "python",
   "nbconvert_exporter": "python",
   "pygments_lexer": "ipython3",
   "version": "3.7.3"
  }
 },
 "nbformat": 4,
 "nbformat_minor": 2
}
